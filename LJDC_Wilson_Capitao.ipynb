{
 "cells": [
  {
   "cell_type": "markdown",
   "metadata": {},
   "source": [
    "### Hi everyone.\n",
    "### This notebook is part of a project developed fot the Landing.Jobs Data Challenge\n",
    "\n",
    "If you want to read more about it, you can read the abstract and the presentation through these links: \n",
    "\n",
    "Abstract: https://drive.google.com/file/d/1qeOC-0TPkGPZHNiGgIaj6g-cPKNCuAP_/view?usp=sharing\n",
    "\n",
    "Presentation: https://drive.google.com/file/d/1eCMqhjT_xGBNw_JSAkUrW_FgkNSMtWIv/view?usp=sharing\n",
    "\n",
    "Goal: Developing a model able to predict if a tech professional earns more than 30k€. This model aims to be ethical and will help anyone that wants to ask for a raise, regardless the gender, nationality and age.\n",
    "\n"
   ]
  },
  {
   "cell_type": "markdown",
   "metadata": {},
   "source": [
    "- - - - - - - - - \n",
    "\n",
    "To start, let's import all the libraries that will help us to build the model and do data transformation"
   ]
  },
  {
   "cell_type": "code",
   "execution_count": 1,
   "metadata": {},
   "outputs": [],
   "source": [
    "import pandas as pd\n",
    "import numpy as np\n",
    "from numpy import mean\n",
    "from numpy import isnan\n",
    "from numpy import asarray\n",
    "from numpy import polyfit\n",
    "import matplotlib.pyplot as plt\n",
    "import seaborn as sns\n",
    "from sklearn.preprocessing import OneHotEncoder\n",
    "from sklearn.preprocessing import MinMaxScaler\n",
    "from sklearn.linear_model import LogisticRegression\n",
    "from numpy import std\n",
    "from sklearn.datasets import make_classification\n",
    "from sklearn.model_selection import cross_val_score\n",
    "from sklearn.model_selection import RepeatedStratifiedKFold\n",
    "from sklearn.model_selection import train_test_split\n",
    "from sklearn.ensemble import RandomForestClassifier\n",
    "from sklearn.metrics import confusion_matrix\n",
    "from sklearn import metrics\n",
    "from sklearn.model_selection import KFold\n",
    "from sklearn.model_selection import LeaveOneOut\n",
    "from sklearn.linear_model import RidgeClassifier\n",
    "from sklearn.linear_model import SGDClassifier\n",
    "from sklearn.linear_model import PassiveAggressiveClassifier\n",
    "from sklearn.neighbors import KNeighborsClassifier\n",
    "from sklearn.tree import DecisionTreeClassifier\n",
    "from sklearn.tree import ExtraTreeClassifier\n",
    "from sklearn.svm import LinearSVC\n",
    "from sklearn.svm import SVC\n",
    "from sklearn.naive_bayes import GaussianNB\n",
    "from sklearn.ensemble import AdaBoostClassifier\n",
    "from sklearn.ensemble import BaggingClassifier\n",
    "from sklearn.ensemble import ExtraTreesClassifier\n",
    "from sklearn.gaussian_process import GaussianProcessClassifier\n",
    "from sklearn.ensemble import GradientBoostingClassifier\n",
    "from sklearn.discriminant_analysis import LinearDiscriminantAnalysis\n",
    "from sklearn.discriminant_analysis import QuadraticDiscriminantAnalysis\n",
    "from sklearn.model_selection import GridSearchCV\n",
    "from xgboost import XGBClassifier"
   ]
  },
  {
   "cell_type": "markdown",
   "metadata": {},
   "source": [
    "### Brief Data Analysis\n",
    "\n",
    " - I really recommend to read the Lanfing.Jobs Report 2021. A lot of decisions were made based on the report analysis. \n",
    "\n",
    "We need to undestand the data we are working with. In this section I will delete irrelevant columns to solve this problem, due to not not presenting any value or because they may have duplicated information in some way.<p>"
   ]
  },
  {
   "cell_type": "code",
   "execution_count": 2,
   "metadata": {},
   "outputs": [
    {
     "data": {
      "text/plain": [
       "(3371, 126)"
      ]
     },
     "execution_count": 2,
     "metadata": {},
     "output_type": "execute_result"
    }
   ],
   "source": [
    "df = pd.read_csv('LJDV.csv', sep = ';', )\n",
    "df.index = df.ID\n",
    "df.shape"
   ]
  },
  {
   "cell_type": "markdown",
   "metadata": {},
   "source": [
    "finding columns that might be irrelevant, having only one unique value"
   ]
  },
  {
   "cell_type": "code",
   "execution_count": 3,
   "metadata": {},
   "outputs": [
    {
     "data": {
      "text/plain": [
       "Residence_Country                 1\n",
       "Language_JavaScript               1\n",
       "Language_Bash/Shell/PowerShell    1\n",
       "Language_SQL                      1\n",
       "Language_Java                     1\n",
       "Language_C#                       1\n",
       "Language_Python                   1\n",
       "Language_PHP                      1\n",
       "Language_C++                      1\n",
       "Language_C                        1\n",
       "Language_TypeScript               1\n",
       "Language_Ruby                     1\n",
       "Language_Swift                    1\n",
       "Language_Objective-C              1\n",
       "Language_VB.NET                   1\n",
       "Language_Assembly                 1\n",
       "Language_R                        1\n",
       "Language_Perl                     1\n",
       "Language_VBA                      1\n",
       "Language_Matlab                   1\n",
       "Language_Go                       1\n",
       "Language_Scala                    1\n",
       "Language_Groovy                   1\n",
       "Language_Coffee Script            1\n",
       "Language_Visual Basic 6           1\n",
       "Language_Lua                      1\n",
       "Language_Haskell                  1\n",
       "Language_HTML/CSS                 1\n",
       "Language_Kotlin                   1\n",
       "Language_Rust                     1\n",
       "Language_Elixir                   1\n",
       "Language_Clojure                  1\n",
       "Language_WebAssembly              1\n",
       "Language_Dart                     1\n",
       "Language_Languages_N/A            0\n",
       "Framework_jQuery                  1\n",
       "Framework_.NET                    1\n",
       "Framework_Angular/Angular.js      1\n",
       "Framework_Ruby on Rails           1\n",
       "Framework_React                   1\n",
       "Framework_Django                  1\n",
       "Framework_Laravel                 1\n",
       "Framework_Spring                  1\n",
       "Framework_Vue.js                  1\n",
       "Framework_Express                 1\n",
       "Framework_Meteor                  1\n",
       "Framework_Flask                   1\n",
       "Framework_Ember.js                1\n",
       "Framework_Drupal                  1\n",
       "Framework_OutSystems              1\n",
       "Framework_Framework_N/A           0\n",
       "dtype: int64"
      ]
     },
     "execution_count": 3,
     "metadata": {},
     "output_type": "execute_result"
    }
   ],
   "source": [
    "# All Language and Framework columns are expected to have only 1. \n",
    "#But some have 0 and I'll drop those as well\n",
    "df.nunique()[df.nunique() < 2]"
   ]
  },
  {
   "cell_type": "code",
   "execution_count": 4,
   "metadata": {},
   "outputs": [],
   "source": [
    "df = df.drop(['ID','Work_as_Contractor_12m','Work_as_Perm','Remote_Working_Current','Remote_Working_Current_Flexible_Office_Days','Remote_Working_due_to_Covid','Remote_Work_Opinion', 'Residence_Country','Language_Languages_N/A','Framework_Framework_N/A','Employment_Status_Aggregated','Residence_District_Aggregated','Work_Company_Country','Work_Company_Continent','Work_Company_PT_District_Aggregated','Remote_Working_Current_Flexible_Office_Days','Job_Role_Original','Job_Role_Other','Employer_Industry_Other','Employer_Org_Type_Other','Contractor_Avg_Project','Contractor_Avg_Annual_Salary','Perm_GAS_Avg','Perm_GAS_Low_Limit','Perm_GAS_High_Limit','Avg_Salary','Salary_Change'], axis=1)\n",
    "df = df.drop(['Salary_Fairness','Changing_Jobs_next_6_months','Job_Motivator_Work_life_balance','Job_Motivator_Compensation_and_benefits','Job_Motivator_Training/Development_programs_at_work','Job_Motivator_Career_growth_opportunities','Job_Motivator_Remote_working','Job_Motivator_Flexible_schedule','Job_Motivator_Company_culture',\"Job_Motivator_The_technologies_I'm_working_with\",'Job_Motivator_Versatility/Variety_of_projects','Job_Motivator_Freedom_to_choose_the_clients_and/or_projects','Job_Motivator_Being_autonomous_at_work','Job_Motivator_How_widely_used_or_impactful_the_product/service_I_work_on_is','Job_Motivator_Environmentally_friendly/responsible_work_practice','Job_Perk_Meals_allowance/Company_provided_meals_or_snacks','Job_Perk_Transportation_benefit','Job_Perk_Health_benefits','Job_Perk_Fitness_or_wellness_benefit_(ex._gym_membership)','Job_Perk_Computer/_Office_equipment_allowance','Job_Perk_Professional_development_sponsorship','Job_Perk_Annual_bonus','Job_Perk_Long-term_leave','Job_Perk_Parental_leave','Job_Perk_Stock_options_or_shares','Job_Perk_Education_sponsorship','Job_Perk_Child_care'], axis=1)\n",
    "df = df.drop(['Birth_Year','Way_Into_Tech_Other','Working_Experience_Aggregated'], axis=1)\n",
    "df = df.drop(['Language_Languages_Other','Framework_Framework_Other'], axis=1)\n",
    "df = df.drop(['Contractor_Avg_Project_Intervals','Contractor_Avg_Hour_Rate'], axis=1)"
   ]
  },
  {
   "cell_type": "markdown",
   "metadata": {},
   "source": [
    "From now on, I'll work with a dataset only with Full time employees"
   ]
  },
  {
   "cell_type": "code",
   "execution_count": 5,
   "metadata": {},
   "outputs": [],
   "source": [
    "df_ft = df[df['Employment_Status'] == 'Employed full-time'].drop(['Employment_Status'], axis = 1)"
   ]
  },
  {
   "cell_type": "code",
   "execution_count": 6,
   "metadata": {},
   "outputs": [
    {
     "data": {
      "text/plain": [
       "Series([], dtype: int64)"
      ]
     },
     "execution_count": 6,
     "metadata": {},
     "output_type": "execute_result"
    }
   ],
   "source": [
    "df_ft.nunique()[df_ft.nunique() < 1]"
   ]
  },
  {
   "cell_type": "markdown",
   "metadata": {},
   "source": [
    "# Data Transformation\n",
    "Due to the nature of the features, we have a lot of nan values. For the model to process the data, I'll convert all nan values to 0 or even remove some rows, that can create samples with incomplete information.\n",
    "The Target variable will be the \"Per_GAS\". Below 30k will be 0, Above 30k will be 1. In this way, I create a binary classification problem. <p>\n",
    "    Our dataset has 2931 rows right now. The Target variable will be divided with 1669 samples that are below 30k, target '0', and 1262 samples that are above 30k, target '1'. <p>\n",
    "- 1: 43.06%\n",
    "- 0: 56.94%\n",
    "  \n",
    "**Categorical Columns** - Some columns have a hierarchical value and for those cases I'll use numeric labeling to keep their value. In other cases, those columns are purely categorical and the solution will be one hot encoding  \n",
    "\n",
    "In the end will also change the data type of all the dataset to float and normalize the data\n",
    "        \n",
    "**A little disclaimer**: Haven't removed any outlier, because removing them will harm the model. I've tried the isolation forest and z-score methods."
   ]
  },
  {
   "cell_type": "code",
   "execution_count": 7,
   "metadata": {},
   "outputs": [],
   "source": [
    "df_ft['Work_Company_PT_District'].replace(np.nan, 0,inplace=True)"
   ]
  },
  {
   "cell_type": "code",
   "execution_count": 8,
   "metadata": {},
   "outputs": [
    {
     "data": {
      "text/plain": [
       "Employer_Industry                  102\n",
       "Employer_Org_Type                   30\n",
       "Language_JavaScript               1541\n",
       "Language_Bash/Shell/PowerShell    2564\n",
       "Language_SQL                      1670\n",
       "Language_Java                     2377\n",
       "Language_C#                       2428\n",
       "Language_Python                   2565\n",
       "Language_PHP                      2708\n",
       "Language_C++                      2976\n",
       "Language_C                        3040\n",
       "Language_TypeScript               2473\n",
       "Language_Ruby                     2988\n",
       "Language_Swift                    3028\n",
       "Language_Objective-C              3080\n",
       "Language_VB.NET                   3027\n",
       "Language_Assembly                 3120\n",
       "Language_R                        3072\n",
       "Language_Perl                     3104\n",
       "Language_VBA                      3038\n",
       "Language_Matlab                   3111\n",
       "Language_Go                       3011\n",
       "Language_Scala                    3065\n",
       "Language_Groovy                   3057\n",
       "Language_Coffee Script            3122\n",
       "Language_Visual Basic 6           3089\n",
       "Language_Lua                      3114\n",
       "Language_Haskell                  3129\n",
       "Language_HTML/CSS                 2014\n",
       "Language_Kotlin                   2961\n",
       "Language_Rust                     3109\n",
       "Language_Elixir                   3100\n",
       "Language_Clojure                  3124\n",
       "Language_WebAssembly              3116\n",
       "Language_Dart                     3090\n",
       "Framework_jQuery                  2410\n",
       "Framework_.NET                    2404\n",
       "Framework_Angular/Angular.js      2598\n",
       "Framework_Ruby on Rails           2998\n",
       "Framework_React                   2447\n",
       "Framework_Django                  3004\n",
       "Framework_Laravel                 2954\n",
       "Framework_Spring                  2745\n",
       "Framework_Vue.js                  2870\n",
       "Framework_Express                 2898\n",
       "Framework_Meteor                  3126\n",
       "Framework_Flask                   3031\n",
       "Framework_Ember.js                3115\n",
       "Framework_Drupal                  3088\n",
       "Framework_OutSystems              3083\n",
       "Age                                  4\n",
       "Way_Into_Tech                       69\n",
       "Education_Level                      2\n",
       "dtype: int64"
      ]
     },
     "execution_count": 8,
     "metadata": {},
     "output_type": "execute_result"
    }
   ],
   "source": [
    "df_ft.isnull().sum()[df_ft.isnull().sum() > 0]"
   ]
  },
  {
   "cell_type": "code",
   "execution_count": 9,
   "metadata": {},
   "outputs": [],
   "source": [
    "df_ft = df_ft[df_ft['Employer_Industry'].notna()]\n",
    "df_ft = df_ft[df_ft['Employer_Org_Type'].notna()]\n",
    "df_ft = df_ft[df_ft['Age'].notna()]\n",
    "df_ft = df_ft[df_ft['Way_Into_Tech'].notna()]\n",
    "df_ft = df_ft[df_ft['Education_Level'].notna()]"
   ]
  },
  {
   "cell_type": "code",
   "execution_count": 10,
   "metadata": {},
   "outputs": [
    {
     "data": {
      "text/html": [
       "<div>\n",
       "<style scoped>\n",
       "    .dataframe tbody tr th:only-of-type {\n",
       "        vertical-align: middle;\n",
       "    }\n",
       "\n",
       "    .dataframe tbody tr th {\n",
       "        vertical-align: top;\n",
       "    }\n",
       "\n",
       "    .dataframe thead th {\n",
       "        text-align: right;\n",
       "    }\n",
       "</style>\n",
       "<table border=\"1\" class=\"dataframe\">\n",
       "  <thead>\n",
       "    <tr style=\"text-align: right;\">\n",
       "      <th></th>\n",
       "      <th>Residence_District</th>\n",
       "      <th>Work_Company_PT_International</th>\n",
       "      <th>Work_Company_PT_District</th>\n",
       "      <th>Job_Remote_or_Office</th>\n",
       "      <th>Job_Role</th>\n",
       "      <th>Employer_Industry</th>\n",
       "      <th>Employer_Org_Type</th>\n",
       "      <th>Employer_Size</th>\n",
       "      <th>Language_JavaScript</th>\n",
       "      <th>Language_Bash/Shell/PowerShell</th>\n",
       "      <th>...</th>\n",
       "      <th>Framework_OutSystems</th>\n",
       "      <th>Perm_Current_Company_how_long</th>\n",
       "      <th>Perm_GAS</th>\n",
       "      <th>Citizenship</th>\n",
       "      <th>Age</th>\n",
       "      <th>Gender</th>\n",
       "      <th>English_Level</th>\n",
       "      <th>Way_Into_Tech</th>\n",
       "      <th>Education_Level</th>\n",
       "      <th>Working_Experience</th>\n",
       "    </tr>\n",
       "    <tr>\n",
       "      <th>ID</th>\n",
       "      <th></th>\n",
       "      <th></th>\n",
       "      <th></th>\n",
       "      <th></th>\n",
       "      <th></th>\n",
       "      <th></th>\n",
       "      <th></th>\n",
       "      <th></th>\n",
       "      <th></th>\n",
       "      <th></th>\n",
       "      <th></th>\n",
       "      <th></th>\n",
       "      <th></th>\n",
       "      <th></th>\n",
       "      <th></th>\n",
       "      <th></th>\n",
       "      <th></th>\n",
       "      <th></th>\n",
       "      <th></th>\n",
       "      <th></th>\n",
       "      <th></th>\n",
       "    </tr>\n",
       "  </thead>\n",
       "  <tbody>\n",
       "    <tr>\n",
       "      <td>4</td>\n",
       "      <td>Açores</td>\n",
       "      <td>Portugal</td>\n",
       "      <td>Açores</td>\n",
       "      <td>Full Office Job</td>\n",
       "      <td>Product Owner/Product Manager</td>\n",
       "      <td>Web development or design</td>\n",
       "      <td>SME - Small or Medium Enterprise (personnel &lt;250)</td>\n",
       "      <td>100 - 499 employees</td>\n",
       "      <td>JavaScript</td>\n",
       "      <td>0</td>\n",
       "      <td>...</td>\n",
       "      <td>0</td>\n",
       "      <td>Between 1 - 3 years</td>\n",
       "      <td>€15.000 - €20.000</td>\n",
       "      <td>Portuguese</td>\n",
       "      <td>46.0</td>\n",
       "      <td>Male</td>\n",
       "      <td>Full professional proficiency</td>\n",
       "      <td>University</td>\n",
       "      <td>Bachelor degree</td>\n",
       "      <td>More than 9 years</td>\n",
       "    </tr>\n",
       "    <tr>\n",
       "      <td>5</td>\n",
       "      <td>Braga</td>\n",
       "      <td>Portugal</td>\n",
       "      <td>Braga</td>\n",
       "      <td>Remote Job (full or flexible)</td>\n",
       "      <td>Back-End Developer</td>\n",
       "      <td>Software development - other</td>\n",
       "      <td>SME - Small or Medium Enterprise (personnel &lt;250)</td>\n",
       "      <td>10 - 19 employees</td>\n",
       "      <td>JavaScript</td>\n",
       "      <td>0</td>\n",
       "      <td>...</td>\n",
       "      <td>0</td>\n",
       "      <td>More than 3 years</td>\n",
       "      <td>€15.000 - €20.000</td>\n",
       "      <td>Portuguese</td>\n",
       "      <td>32.0</td>\n",
       "      <td>Male</td>\n",
       "      <td>Professional working proficiency</td>\n",
       "      <td>University</td>\n",
       "      <td>Bachelor degree</td>\n",
       "      <td>Between 6 - 9 years</td>\n",
       "    </tr>\n",
       "    <tr>\n",
       "      <td>7</td>\n",
       "      <td>Aveiro</td>\n",
       "      <td>Portugal</td>\n",
       "      <td>Aveiro</td>\n",
       "      <td>Full Office Job</td>\n",
       "      <td>Front-End Developer</td>\n",
       "      <td>Retail or ecommerce</td>\n",
       "      <td>Corporate</td>\n",
       "      <td>More than 5.000 employees</td>\n",
       "      <td>0</td>\n",
       "      <td>0</td>\n",
       "      <td>...</td>\n",
       "      <td>0</td>\n",
       "      <td>Between 1 - 3 years</td>\n",
       "      <td>€25.000 - €30.000</td>\n",
       "      <td>Portuguese</td>\n",
       "      <td>30.0</td>\n",
       "      <td>Female</td>\n",
       "      <td>Full professional proficiency</td>\n",
       "      <td>University</td>\n",
       "      <td>Bachelor degree</td>\n",
       "      <td>Between 3 - 6 years</td>\n",
       "    </tr>\n",
       "    <tr>\n",
       "      <td>8</td>\n",
       "      <td>Santarém</td>\n",
       "      <td>Portugal</td>\n",
       "      <td>Lisboa</td>\n",
       "      <td>Full Office Job</td>\n",
       "      <td>Full-Stack Developer</td>\n",
       "      <td>Consulting</td>\n",
       "      <td>Consulting Business</td>\n",
       "      <td>500 - 999 employees</td>\n",
       "      <td>JavaScript</td>\n",
       "      <td>0</td>\n",
       "      <td>...</td>\n",
       "      <td>0</td>\n",
       "      <td>More than 3 years</td>\n",
       "      <td>€20.000 - €25.000</td>\n",
       "      <td>Portuguese</td>\n",
       "      <td>38.0</td>\n",
       "      <td>Male</td>\n",
       "      <td>Native or bilingual proficiency</td>\n",
       "      <td>University</td>\n",
       "      <td>Bachelor degree</td>\n",
       "      <td>More than 9 years</td>\n",
       "    </tr>\n",
       "    <tr>\n",
       "      <td>9</td>\n",
       "      <td>Viseu</td>\n",
       "      <td>Portugal</td>\n",
       "      <td>Viseu</td>\n",
       "      <td>Full Office Job</td>\n",
       "      <td>Full-Stack Developer</td>\n",
       "      <td>Web development or design</td>\n",
       "      <td>Consulting Business</td>\n",
       "      <td>1000 - 4.999 employees</td>\n",
       "      <td>JavaScript</td>\n",
       "      <td>0</td>\n",
       "      <td>...</td>\n",
       "      <td>0</td>\n",
       "      <td>Between 1 - 3 years</td>\n",
       "      <td>&lt; €15.000</td>\n",
       "      <td>Portuguese</td>\n",
       "      <td>24.0</td>\n",
       "      <td>Male</td>\n",
       "      <td>Limited working proficiency</td>\n",
       "      <td>University</td>\n",
       "      <td>Bachelor degree</td>\n",
       "      <td>Between 1 - 3 years</td>\n",
       "    </tr>\n",
       "    <tr>\n",
       "      <td>...</td>\n",
       "      <td>...</td>\n",
       "      <td>...</td>\n",
       "      <td>...</td>\n",
       "      <td>...</td>\n",
       "      <td>...</td>\n",
       "      <td>...</td>\n",
       "      <td>...</td>\n",
       "      <td>...</td>\n",
       "      <td>...</td>\n",
       "      <td>...</td>\n",
       "      <td>...</td>\n",
       "      <td>...</td>\n",
       "      <td>...</td>\n",
       "      <td>...</td>\n",
       "      <td>...</td>\n",
       "      <td>...</td>\n",
       "      <td>...</td>\n",
       "      <td>...</td>\n",
       "      <td>...</td>\n",
       "      <td>...</td>\n",
       "      <td>...</td>\n",
       "    </tr>\n",
       "    <tr>\n",
       "      <td>3365</td>\n",
       "      <td>Lisboa</td>\n",
       "      <td>International</td>\n",
       "      <td>0</td>\n",
       "      <td>Remote Job (full or flexible)</td>\n",
       "      <td>Maintenance &amp; Support</td>\n",
       "      <td>Transportation</td>\n",
       "      <td>Corporate</td>\n",
       "      <td>More than 5.000 employees</td>\n",
       "      <td>0</td>\n",
       "      <td>0</td>\n",
       "      <td>...</td>\n",
       "      <td>0</td>\n",
       "      <td>Between 1 - 3 years</td>\n",
       "      <td>€40.000 - €45.000</td>\n",
       "      <td>Portuguese</td>\n",
       "      <td>39.0</td>\n",
       "      <td>Male</td>\n",
       "      <td>Full professional proficiency</td>\n",
       "      <td>University</td>\n",
       "      <td>University drop out</td>\n",
       "      <td>More than 9 years</td>\n",
       "    </tr>\n",
       "    <tr>\n",
       "      <td>3367</td>\n",
       "      <td>Porto</td>\n",
       "      <td>Portugal</td>\n",
       "      <td>Porto</td>\n",
       "      <td>Remote Job (full or flexible)</td>\n",
       "      <td>Full-Stack Developer</td>\n",
       "      <td>Consulting</td>\n",
       "      <td>Corporate</td>\n",
       "      <td>20 - 99 employees</td>\n",
       "      <td>JavaScript</td>\n",
       "      <td>0</td>\n",
       "      <td>...</td>\n",
       "      <td>0</td>\n",
       "      <td>Between 1 - 3 years</td>\n",
       "      <td>€15.000 - €20.000</td>\n",
       "      <td>Portuguese</td>\n",
       "      <td>29.0</td>\n",
       "      <td>Male</td>\n",
       "      <td>Full professional proficiency</td>\n",
       "      <td>Self-taught</td>\n",
       "      <td>University drop out</td>\n",
       "      <td>Between 3 - 6 years</td>\n",
       "    </tr>\n",
       "    <tr>\n",
       "      <td>3368</td>\n",
       "      <td>Lisboa</td>\n",
       "      <td>Portugal</td>\n",
       "      <td>Lisboa</td>\n",
       "      <td>Full Office Job</td>\n",
       "      <td>Quality Assurance/Testing</td>\n",
       "      <td>Cloud-based solutions or services</td>\n",
       "      <td>SME - Small or Medium Enterprise (personnel &lt;250)</td>\n",
       "      <td>100 - 499 employees</td>\n",
       "      <td>JavaScript</td>\n",
       "      <td>0</td>\n",
       "      <td>...</td>\n",
       "      <td>0</td>\n",
       "      <td>Between 1 - 3 years</td>\n",
       "      <td>€25.000 - €30.000</td>\n",
       "      <td>Portuguese</td>\n",
       "      <td>33.0</td>\n",
       "      <td>Male</td>\n",
       "      <td>Professional working proficiency</td>\n",
       "      <td>University</td>\n",
       "      <td>University drop out</td>\n",
       "      <td>Between 3 - 6 years</td>\n",
       "    </tr>\n",
       "    <tr>\n",
       "      <td>3369</td>\n",
       "      <td>Porto</td>\n",
       "      <td>International</td>\n",
       "      <td>0</td>\n",
       "      <td>Full Office Job</td>\n",
       "      <td>Front-End Developer</td>\n",
       "      <td>Software development - other</td>\n",
       "      <td>Corporate</td>\n",
       "      <td>1000 - 4.999 employees</td>\n",
       "      <td>JavaScript</td>\n",
       "      <td>0</td>\n",
       "      <td>...</td>\n",
       "      <td>0</td>\n",
       "      <td>More than 3 years</td>\n",
       "      <td>€30.000 - €35.000</td>\n",
       "      <td>Portuguese</td>\n",
       "      <td>39.0</td>\n",
       "      <td>Male</td>\n",
       "      <td>Professional working proficiency</td>\n",
       "      <td>University</td>\n",
       "      <td>University drop out</td>\n",
       "      <td>Between 6 - 9 years</td>\n",
       "    </tr>\n",
       "    <tr>\n",
       "      <td>3370</td>\n",
       "      <td>Porto</td>\n",
       "      <td>Portugal</td>\n",
       "      <td>Porto</td>\n",
       "      <td>Remote Job (full or flexible)</td>\n",
       "      <td>Front-End Developer</td>\n",
       "      <td>Consulting</td>\n",
       "      <td>Consulting Business</td>\n",
       "      <td>100 - 499 employees</td>\n",
       "      <td>JavaScript</td>\n",
       "      <td>0</td>\n",
       "      <td>...</td>\n",
       "      <td>0</td>\n",
       "      <td>Between 1 - 3 years</td>\n",
       "      <td>€20.000 - €25.000</td>\n",
       "      <td>Portuguese</td>\n",
       "      <td>33.0</td>\n",
       "      <td>Male</td>\n",
       "      <td>Full professional proficiency</td>\n",
       "      <td>University</td>\n",
       "      <td>University drop out</td>\n",
       "      <td>Between 3 - 6 years</td>\n",
       "    </tr>\n",
       "  </tbody>\n",
       "</table>\n",
       "<p>2931 rows × 65 columns</p>\n",
       "</div>"
      ],
      "text/plain": [
       "     Residence_District Work_Company_PT_International  \\\n",
       "ID                                                      \n",
       "4                Açores                      Portugal   \n",
       "5                 Braga                      Portugal   \n",
       "7                Aveiro                      Portugal   \n",
       "8              Santarém                      Portugal   \n",
       "9                 Viseu                      Portugal   \n",
       "...                 ...                           ...   \n",
       "3365             Lisboa                 International   \n",
       "3367              Porto                      Portugal   \n",
       "3368             Lisboa                      Portugal   \n",
       "3369              Porto                 International   \n",
       "3370              Porto                      Portugal   \n",
       "\n",
       "     Work_Company_PT_District           Job_Remote_or_Office  \\\n",
       "ID                                                             \n",
       "4                      Açores                Full Office Job   \n",
       "5                       Braga  Remote Job (full or flexible)   \n",
       "7                      Aveiro                Full Office Job   \n",
       "8                      Lisboa                Full Office Job   \n",
       "9                       Viseu                Full Office Job   \n",
       "...                       ...                            ...   \n",
       "3365                        0  Remote Job (full or flexible)   \n",
       "3367                    Porto  Remote Job (full or flexible)   \n",
       "3368                   Lisboa                Full Office Job   \n",
       "3369                        0                Full Office Job   \n",
       "3370                    Porto  Remote Job (full or flexible)   \n",
       "\n",
       "                           Job_Role                  Employer_Industry  \\\n",
       "ID                                                                       \n",
       "4     Product Owner/Product Manager          Web development or design   \n",
       "5                Back-End Developer       Software development - other   \n",
       "7               Front-End Developer                Retail or ecommerce   \n",
       "8              Full-Stack Developer                         Consulting   \n",
       "9              Full-Stack Developer          Web development or design   \n",
       "...                             ...                                ...   \n",
       "3365          Maintenance & Support                     Transportation   \n",
       "3367           Full-Stack Developer                         Consulting   \n",
       "3368      Quality Assurance/Testing  Cloud-based solutions or services   \n",
       "3369            Front-End Developer       Software development - other   \n",
       "3370            Front-End Developer                         Consulting   \n",
       "\n",
       "                                      Employer_Org_Type  \\\n",
       "ID                                                        \n",
       "4     SME - Small or Medium Enterprise (personnel <250)   \n",
       "5     SME - Small or Medium Enterprise (personnel <250)   \n",
       "7                                             Corporate   \n",
       "8                                   Consulting Business   \n",
       "9                                   Consulting Business   \n",
       "...                                                 ...   \n",
       "3365                                          Corporate   \n",
       "3367                                          Corporate   \n",
       "3368  SME - Small or Medium Enterprise (personnel <250)   \n",
       "3369                                          Corporate   \n",
       "3370                                Consulting Business   \n",
       "\n",
       "                  Employer_Size Language_JavaScript  \\\n",
       "ID                                                    \n",
       "4           100 - 499 employees          JavaScript   \n",
       "5             10 - 19 employees          JavaScript   \n",
       "7     More than 5.000 employees                   0   \n",
       "8           500 - 999 employees          JavaScript   \n",
       "9        1000 - 4.999 employees          JavaScript   \n",
       "...                         ...                 ...   \n",
       "3365  More than 5.000 employees                   0   \n",
       "3367          20 - 99 employees          JavaScript   \n",
       "3368        100 - 499 employees          JavaScript   \n",
       "3369     1000 - 4.999 employees          JavaScript   \n",
       "3370        100 - 499 employees          JavaScript   \n",
       "\n",
       "     Language_Bash/Shell/PowerShell  ... Framework_OutSystems  \\\n",
       "ID                                   ...                        \n",
       "4                                 0  ...                    0   \n",
       "5                                 0  ...                    0   \n",
       "7                                 0  ...                    0   \n",
       "8                                 0  ...                    0   \n",
       "9                                 0  ...                    0   \n",
       "...                             ...  ...                  ...   \n",
       "3365                              0  ...                    0   \n",
       "3367                              0  ...                    0   \n",
       "3368                              0  ...                    0   \n",
       "3369                              0  ...                    0   \n",
       "3370                              0  ...                    0   \n",
       "\n",
       "     Perm_Current_Company_how_long           Perm_GAS Citizenship   Age  \\\n",
       "ID                                                                        \n",
       "4              Between 1 - 3 years  €15.000 - €20.000  Portuguese  46.0   \n",
       "5                More than 3 years  €15.000 - €20.000  Portuguese  32.0   \n",
       "7              Between 1 - 3 years  €25.000 - €30.000  Portuguese  30.0   \n",
       "8                More than 3 years  €20.000 - €25.000  Portuguese  38.0   \n",
       "9              Between 1 - 3 years          < €15.000  Portuguese  24.0   \n",
       "...                            ...                ...         ...   ...   \n",
       "3365           Between 1 - 3 years  €40.000 - €45.000  Portuguese  39.0   \n",
       "3367           Between 1 - 3 years  €15.000 - €20.000  Portuguese  29.0   \n",
       "3368           Between 1 - 3 years  €25.000 - €30.000  Portuguese  33.0   \n",
       "3369             More than 3 years  €30.000 - €35.000  Portuguese  39.0   \n",
       "3370           Between 1 - 3 years  €20.000 - €25.000  Portuguese  33.0   \n",
       "\n",
       "      Gender                     English_Level Way_Into_Tech  \\\n",
       "ID                                                             \n",
       "4       Male     Full professional proficiency    University   \n",
       "5       Male  Professional working proficiency    University   \n",
       "7     Female     Full professional proficiency    University   \n",
       "8       Male   Native or bilingual proficiency    University   \n",
       "9       Male       Limited working proficiency    University   \n",
       "...      ...                               ...           ...   \n",
       "3365    Male     Full professional proficiency    University   \n",
       "3367    Male     Full professional proficiency   Self-taught   \n",
       "3368    Male  Professional working proficiency    University   \n",
       "3369    Male  Professional working proficiency    University   \n",
       "3370    Male     Full professional proficiency    University   \n",
       "\n",
       "          Education_Level   Working_Experience  \n",
       "ID                                              \n",
       "4         Bachelor degree    More than 9 years  \n",
       "5         Bachelor degree  Between 6 - 9 years  \n",
       "7         Bachelor degree  Between 3 - 6 years  \n",
       "8         Bachelor degree    More than 9 years  \n",
       "9         Bachelor degree  Between 1 - 3 years  \n",
       "...                   ...                  ...  \n",
       "3365  University drop out    More than 9 years  \n",
       "3367  University drop out  Between 3 - 6 years  \n",
       "3368  University drop out  Between 3 - 6 years  \n",
       "3369  University drop out  Between 6 - 9 years  \n",
       "3370  University drop out  Between 3 - 6 years  \n",
       "\n",
       "[2931 rows x 65 columns]"
      ]
     },
     "execution_count": 10,
     "metadata": {},
     "output_type": "execute_result"
    }
   ],
   "source": [
    "columns_0 = df_ft.isnull().sum()[df_ft.isnull().sum() > 0].index\n",
    "df_ft = df_ft.fillna(0)\n",
    "df_help = df_ft.copy()\n",
    "df_ft"
   ]
  },
  {
   "cell_type": "markdown",
   "metadata": {},
   "source": [
    "## Transforming Perm_GAS as Target with numeric values\n"
   ]
  },
  {
   "cell_type": "code",
   "execution_count": 11,
   "metadata": {},
   "outputs": [],
   "source": [
    "def f(row):\n",
    "    if row['Perm_GAS'] == '< €15.000':\n",
    "        val = 0\n",
    "    if row['Perm_GAS'] == '€15.000 - €20.000':\n",
    "        val = 0\n",
    "    if row['Perm_GAS'] == '€20.000 - €25.000':\n",
    "        val = 0\n",
    "    if row['Perm_GAS'] == '€25.000 - €30.000':\n",
    "        val = 0\n",
    "    if row['Perm_GAS'] == '€30.000 - €35.000':\n",
    "        val = 1\n",
    "    if row['Perm_GAS'] == '€35.000 - €40.000':\n",
    "        val = 1\n",
    "    if row['Perm_GAS'] == '€40.000 - €45.000':\n",
    "        val = 1\n",
    "    if row['Perm_GAS'] == '€45.000 - €50.000':\n",
    "        val = 1\n",
    "    if row['Perm_GAS'] == '€50.000 - €55.000':\n",
    "        val = 1\n",
    "    if row['Perm_GAS'] == '€55.000 - €60.000':\n",
    "        val = 1\n",
    "    if row['Perm_GAS'] == '€60.000 - €65.000':\n",
    "        val = 1\n",
    "    if row['Perm_GAS'] == '€65.000 - €70.000':\n",
    "        val = 1\n",
    "    if row['Perm_GAS'] == '€70.000 - €75.000':\n",
    "        val = 1\n",
    "    if row['Perm_GAS'] == '€75.000 - €80.000':\n",
    "        val = 1\n",
    "    if row['Perm_GAS'] == '€80.000 - €85.000':\n",
    "        val = 1\n",
    "    if row['Perm_GAS'] == '€85.000 - €90.000':\n",
    "        val = 1\n",
    "    if row['Perm_GAS'] == '€90.000 - €95.000':\n",
    "        val = 1\n",
    "    if row['Perm_GAS'] == '€95.000 - €100.000':\n",
    "        val = 1\n",
    "    if row['Perm_GAS'] == '> €100.000':\n",
    "        val = 1\n",
    "    return val"
   ]
  },
  {
   "cell_type": "code",
   "execution_count": 12,
   "metadata": {},
   "outputs": [
    {
     "data": {
      "text/plain": [
       "1    1262\n",
       "0    1669\n",
       "Name: Target, dtype: int64"
      ]
     },
     "execution_count": 12,
     "metadata": {},
     "output_type": "execute_result"
    }
   ],
   "source": [
    "df_ft['Target'] = df_ft.apply(f, axis=1)\n",
    "df_ft = df_ft.drop(['Perm_GAS'], axis = 1)\n",
    "df_ft['Target'].value_counts().sort_values()"
   ]
  },
  {
   "cell_type": "code",
   "execution_count": 13,
   "metadata": {},
   "outputs": [
    {
     "data": {
      "text/plain": [
       "(2931, 65)"
      ]
     },
     "execution_count": 13,
     "metadata": {},
     "output_type": "execute_result"
    }
   ],
   "source": [
    "df_ft.shape"
   ]
  },
  {
   "cell_type": "code",
   "execution_count": 14,
   "metadata": {},
   "outputs": [
    {
     "data": {
      "text/plain": [
       "0"
      ]
     },
     "execution_count": 14,
     "metadata": {},
     "output_type": "execute_result"
    }
   ],
   "source": [
    "df_ft.Target.isnull().sum()"
   ]
  },
  {
   "cell_type": "markdown",
   "metadata": {},
   "source": [
    "### Solving categorical colummns Problem"
   ]
  },
  {
   "cell_type": "markdown",
   "metadata": {},
   "source": [
    "### creating array with categorical columns"
   ]
  },
  {
   "cell_type": "code",
   "execution_count": 15,
   "metadata": {},
   "outputs": [],
   "source": [
    "cat_col = ['Residence_District','Work_Company_PT_District','Work_Company_PT_International','Job_Remote_or_Office','Job_Role','Employer_Industry','Employer_Org_Type','Employer_Size','Way_Into_Tech','Education_Level','Perm_Current_Company_how_long','Citizenship','Gender','English_Level','Working_Experience']"
   ]
  },
  {
   "cell_type": "markdown",
   "metadata": {},
   "source": [
    "### Creating Dummies for each categorical column\n"
   ]
  },
  {
   "cell_type": "code",
   "execution_count": 16,
   "metadata": {},
   "outputs": [],
   "source": [
    "#Creating new columns for each element\n",
    "encoded_residence = pd.get_dummies(df_ft['Residence_District'], prefix = 'Colab_Resid')\n",
    "#joining the results to our dataset\n",
    "df_ft = df_ft.join(encoded_residence).drop('Residence_District', axis=1)"
   ]
  },
  {
   "cell_type": "code",
   "execution_count": 17,
   "metadata": {},
   "outputs": [],
   "source": [
    "#Creating new columns for each element\n",
    "Work_Company_PT_District = pd.get_dummies(df_ft['Work_Company_PT_District'], prefix = 'Comp_District')\n",
    "#joining the results to our dataset\n",
    "df_ft = df_ft.join(Work_Company_PT_District).drop('Work_Company_PT_District', axis=1)"
   ]
  },
  {
   "cell_type": "code",
   "execution_count": 18,
   "metadata": {},
   "outputs": [],
   "source": [
    "#Creating new columns for each element\n",
    "Work_Company_PT_International = pd.get_dummies(df_ft['Work_Company_PT_International'], prefix = 'Comp_Country')\n",
    "#joining the results to our dataset\n",
    "df_ft = df_ft.join(Work_Company_PT_International).drop('Work_Company_PT_International', axis=1)"
   ]
  },
  {
   "cell_type": "code",
   "execution_count": 19,
   "metadata": {},
   "outputs": [],
   "source": [
    "#Creating new columns for each element\n",
    "Job_Remote_or_Office = pd.get_dummies(df_ft['Job_Remote_or_Office'], prefix = 'Job_rem_off')\n",
    "#joining the results to our dataset\n",
    "df_ft = df_ft.join(Job_Remote_or_Office).drop('Job_Remote_or_Office', axis=1)"
   ]
  },
  {
   "cell_type": "code",
   "execution_count": 20,
   "metadata": {},
   "outputs": [],
   "source": [
    "#Creating new columns for each element\n",
    "Job_Role = pd.get_dummies(df_ft['Job_Role'], prefix = 'job_role')\n",
    "#joining the results to our dataset\n",
    "df_ft = df_ft.join(Job_Role).drop('Job_Role', axis=1)"
   ]
  },
  {
   "cell_type": "code",
   "execution_count": 21,
   "metadata": {},
   "outputs": [],
   "source": [
    "#Creating new columns for each element\n",
    "Employer_Industry = pd.get_dummies(df_ft['Employer_Industry'], prefix = 'Employer_Industry')\n",
    "#joining the results to our dataset\n",
    "df_ft = df_ft.join(Employer_Industry).drop('Employer_Industry', axis=1)"
   ]
  },
  {
   "cell_type": "code",
   "execution_count": 22,
   "metadata": {},
   "outputs": [],
   "source": [
    "#Creating new columns for each element\n",
    "\n",
    "Employer_Org_Type = pd.get_dummies(df_ft['Employer_Org_Type'], prefix = 'Type')\n",
    "\n",
    "#there is a column with a character \"<\", this character creates an error in some models. Will remove it:\n",
    "Employer_Org_Type['Type_SME - Small or Medium Enterprise (personnel -250)'] = Employer_Org_Type['Type_SME - Small or Medium Enterprise (personnel <250)']\n",
    "Employer_Org_Type = Employer_Org_Type.drop(['Type_SME - Small or Medium Enterprise (personnel <250)'], axis = 1)\n",
    "\n",
    "#joining the results to our dataset\n",
    "df_ft = df_ft.join(Employer_Org_Type).drop('Employer_Org_Type', axis=1)\n"
   ]
  },
  {
   "cell_type": "code",
   "execution_count": 23,
   "metadata": {},
   "outputs": [],
   "source": [
    "#In this case, for \"Employer Size\", because we can translate this variable into numerical value, I will attribute a label for each size level\n",
    "\n",
    "df_ft['Employer_Size'] = df_ft['Employer_Size'].map({'Less than 10 employees': 0, '10 - 19 employees': 1, \n",
    "                                    '20 - 99 employees': 2, '100 - 499 employees': 3, \n",
    "                                    '500 - 999 employees': 4, '1000 - 4.999 employees': 5, 'More than 5.000 employees': 6})\n"
   ]
  },
  {
   "cell_type": "code",
   "execution_count": 24,
   "metadata": {},
   "outputs": [],
   "source": [
    "#Creating new columns for each element\n",
    "Way_Into_Tech = pd.get_dummies(df_ft['Way_Into_Tech'], prefix = 'Way_Into_Tech')\n",
    "#joining the results to our dataset\n",
    "df_ft = df_ft.join(Way_Into_Tech).drop('Way_Into_Tech', axis=1)"
   ]
  },
  {
   "cell_type": "code",
   "execution_count": 25,
   "metadata": {},
   "outputs": [],
   "source": [
    "#In this case, for \"Education_Level\", because we can translate this variable into numerical value, I will attribute a label for each size level\n",
    "\n",
    "df_ft['Education_Level'] = df_ft['Education_Level'].map({'I prefer not to answer': 0, 'Basic Education': 1, \n",
    "                                    'High School Education': 2, 'Trade/technical/vocational training': 3, \n",
    "                                    'University drop out': 4, 'Bachelor degree': 5, 'Masters degree': 6, 'Doctoral degree': 7})\n"
   ]
  },
  {
   "cell_type": "code",
   "execution_count": 26,
   "metadata": {},
   "outputs": [],
   "source": [
    "#In this case, for \"Perm_Current_Company_how_long\", because we can translate this variable into numerical value, I will attribute a label for each size level\n",
    "\n",
    "df_ft['Perm_Current_Company_how_long'] = df_ft['Perm_Current_Company_how_long'].map({'Less than one year': 0, 'Between 1 - 3 years': 1, \n",
    "                                    'More than 3 years': 2})"
   ]
  },
  {
   "cell_type": "code",
   "execution_count": 27,
   "metadata": {},
   "outputs": [],
   "source": [
    "#Beacause of the ethics associated with this model, this feature will be removed.\n",
    "df_ft = df_ft.drop('Citizenship', axis=1)"
   ]
  },
  {
   "cell_type": "code",
   "execution_count": 28,
   "metadata": {},
   "outputs": [],
   "source": [
    "#Beacause of the ethics associated with this model, this feature will be removed.\n",
    "df_ft = df_ft.drop('Gender', axis=1)"
   ]
  },
  {
   "cell_type": "code",
   "execution_count": 29,
   "metadata": {},
   "outputs": [],
   "source": [
    "#In this case, for \"English_Level\", because we can translate this variable into numerical value, I will attribute a label for each size level\n",
    "\n",
    "df_ft['English_Level'] = df_ft['English_Level'].map({'Elementary': 0, 'Limited working proficiency': 1, \n",
    "                                    'Professional working proficiency': 2, 'Full professional proficiency': 3, 'Native or bilingual proficiency': 4})"
   ]
  },
  {
   "cell_type": "code",
   "execution_count": 30,
   "metadata": {},
   "outputs": [],
   "source": [
    "#In this case, for \"Working_Experience\", because we can translate this variable into numerical value, I will attribute a label for each size level\n",
    "\n",
    "df_ft['Working_Experience'] = df_ft['Working_Experience'].map({'No working experience': 0, 'Less than 1 year': 1, \n",
    "                                    'Between 1 - 3 years': 2, 'Between 3 - 6 years': 3, 'Between 6 - 9 years': 4, 'More than 9 years': 5})\n"
   ]
  },
  {
   "cell_type": "code",
   "execution_count": 31,
   "metadata": {},
   "outputs": [],
   "source": [
    "#Beacause of the ethics associated with this model, this feature will be removed.\n",
    "df_ft = df_ft.drop('Age', axis=1)"
   ]
  },
  {
   "cell_type": "code",
   "execution_count": 32,
   "metadata": {},
   "outputs": [
    {
     "data": {
      "text/plain": [
       "(2931, 152)"
      ]
     },
     "execution_count": 32,
     "metadata": {},
     "output_type": "execute_result"
    }
   ],
   "source": [
    "#defining all string as 1 in languages and frameworks columns\n",
    "\n",
    "#df_help1 = df_help.iloc[:, 8:56]\n",
    "\n",
    "df_ft['Employer_Size_'] = df_ft['Employer_Size'].copy()\n",
    "df_ft = df_ft.drop(['Employer_Size'], axis = 1)\n",
    "#creating a new dataset with language and framework to turn them to numeric\n",
    "df_help1 = df_ft.iloc[:, 0:48]\n",
    "#New column with the sum of how many languages and frameworks does one knows\n",
    "df_help1[df_help1 != 0] = 1\n",
    "df_ft = df_ft.iloc[:, 48:154]\n",
    "#join both datasets again into one\n",
    "df_ft = df_ft.join(df_help1)\n",
    "df_ft.shape"
   ]
  },
  {
   "cell_type": "markdown",
   "metadata": {},
   "source": [
    "### Changing data Types"
   ]
  },
  {
   "cell_type": "code",
   "execution_count": 33,
   "metadata": {},
   "outputs": [],
   "source": [
    "df_ft = df_ft.astype(float)"
   ]
  },
  {
   "cell_type": "markdown",
   "metadata": {},
   "source": [
    "### Dropping Unnecessary columns"
   ]
  },
  {
   "cell_type": "code",
   "execution_count": 34,
   "metadata": {},
   "outputs": [],
   "source": [
    "#when the company is international\n",
    "df_ft['Comp_District_0'].sum()\n",
    "\n",
    "#repeated informatino in columns that tell us if it is remote or not\n",
    "df_ft = df_ft.drop(['Comp_District_0','Comp_Country_Portugal','Job_rem_off_Remote Job (full or flexible)'], axis = 1)"
   ]
  },
  {
   "cell_type": "code",
   "execution_count": 35,
   "metadata": {},
   "outputs": [
    {
     "data": {
      "text/html": [
       "<div>\n",
       "<style scoped>\n",
       "    .dataframe tbody tr th:only-of-type {\n",
       "        vertical-align: middle;\n",
       "    }\n",
       "\n",
       "    .dataframe tbody tr th {\n",
       "        vertical-align: top;\n",
       "    }\n",
       "\n",
       "    .dataframe thead th {\n",
       "        text-align: right;\n",
       "    }\n",
       "</style>\n",
       "<table border=\"1\" class=\"dataframe\">\n",
       "  <thead>\n",
       "    <tr style=\"text-align: right;\">\n",
       "      <th></th>\n",
       "      <th>Perm_Current_Company_how_long</th>\n",
       "      <th>English_Level</th>\n",
       "      <th>Education_Level</th>\n",
       "      <th>Working_Experience</th>\n",
       "      <th>Target</th>\n",
       "      <th>Colab_Resid_Aveiro</th>\n",
       "      <th>Colab_Resid_Açores</th>\n",
       "      <th>Colab_Resid_Beja</th>\n",
       "      <th>Colab_Resid_Braga</th>\n",
       "      <th>Colab_Resid_Bragança</th>\n",
       "      <th>...</th>\n",
       "      <th>Framework_Django</th>\n",
       "      <th>Framework_Laravel</th>\n",
       "      <th>Framework_Spring</th>\n",
       "      <th>Framework_Vue.js</th>\n",
       "      <th>Framework_Express</th>\n",
       "      <th>Framework_Meteor</th>\n",
       "      <th>Framework_Flask</th>\n",
       "      <th>Framework_Ember.js</th>\n",
       "      <th>Framework_Drupal</th>\n",
       "      <th>Framework_OutSystems</th>\n",
       "    </tr>\n",
       "    <tr>\n",
       "      <th>ID</th>\n",
       "      <th></th>\n",
       "      <th></th>\n",
       "      <th></th>\n",
       "      <th></th>\n",
       "      <th></th>\n",
       "      <th></th>\n",
       "      <th></th>\n",
       "      <th></th>\n",
       "      <th></th>\n",
       "      <th></th>\n",
       "      <th></th>\n",
       "      <th></th>\n",
       "      <th></th>\n",
       "      <th></th>\n",
       "      <th></th>\n",
       "      <th></th>\n",
       "      <th></th>\n",
       "      <th></th>\n",
       "      <th></th>\n",
       "      <th></th>\n",
       "      <th></th>\n",
       "    </tr>\n",
       "  </thead>\n",
       "  <tbody>\n",
       "    <tr>\n",
       "      <td>4</td>\n",
       "      <td>1.0</td>\n",
       "      <td>3.0</td>\n",
       "      <td>5.0</td>\n",
       "      <td>5.0</td>\n",
       "      <td>0.0</td>\n",
       "      <td>0.0</td>\n",
       "      <td>1.0</td>\n",
       "      <td>0.0</td>\n",
       "      <td>0.0</td>\n",
       "      <td>0.0</td>\n",
       "      <td>...</td>\n",
       "      <td>0.0</td>\n",
       "      <td>0.0</td>\n",
       "      <td>0.0</td>\n",
       "      <td>0.0</td>\n",
       "      <td>0.0</td>\n",
       "      <td>0.0</td>\n",
       "      <td>0.0</td>\n",
       "      <td>0.0</td>\n",
       "      <td>0.0</td>\n",
       "      <td>0.0</td>\n",
       "    </tr>\n",
       "    <tr>\n",
       "      <td>5</td>\n",
       "      <td>2.0</td>\n",
       "      <td>2.0</td>\n",
       "      <td>5.0</td>\n",
       "      <td>4.0</td>\n",
       "      <td>0.0</td>\n",
       "      <td>0.0</td>\n",
       "      <td>0.0</td>\n",
       "      <td>0.0</td>\n",
       "      <td>1.0</td>\n",
       "      <td>0.0</td>\n",
       "      <td>...</td>\n",
       "      <td>0.0</td>\n",
       "      <td>0.0</td>\n",
       "      <td>0.0</td>\n",
       "      <td>0.0</td>\n",
       "      <td>1.0</td>\n",
       "      <td>0.0</td>\n",
       "      <td>0.0</td>\n",
       "      <td>0.0</td>\n",
       "      <td>0.0</td>\n",
       "      <td>0.0</td>\n",
       "    </tr>\n",
       "    <tr>\n",
       "      <td>7</td>\n",
       "      <td>1.0</td>\n",
       "      <td>3.0</td>\n",
       "      <td>5.0</td>\n",
       "      <td>3.0</td>\n",
       "      <td>0.0</td>\n",
       "      <td>1.0</td>\n",
       "      <td>0.0</td>\n",
       "      <td>0.0</td>\n",
       "      <td>0.0</td>\n",
       "      <td>0.0</td>\n",
       "      <td>...</td>\n",
       "      <td>0.0</td>\n",
       "      <td>0.0</td>\n",
       "      <td>1.0</td>\n",
       "      <td>0.0</td>\n",
       "      <td>0.0</td>\n",
       "      <td>0.0</td>\n",
       "      <td>0.0</td>\n",
       "      <td>0.0</td>\n",
       "      <td>0.0</td>\n",
       "      <td>0.0</td>\n",
       "    </tr>\n",
       "    <tr>\n",
       "      <td>8</td>\n",
       "      <td>2.0</td>\n",
       "      <td>4.0</td>\n",
       "      <td>5.0</td>\n",
       "      <td>5.0</td>\n",
       "      <td>0.0</td>\n",
       "      <td>0.0</td>\n",
       "      <td>0.0</td>\n",
       "      <td>0.0</td>\n",
       "      <td>0.0</td>\n",
       "      <td>0.0</td>\n",
       "      <td>...</td>\n",
       "      <td>0.0</td>\n",
       "      <td>0.0</td>\n",
       "      <td>0.0</td>\n",
       "      <td>0.0</td>\n",
       "      <td>0.0</td>\n",
       "      <td>0.0</td>\n",
       "      <td>0.0</td>\n",
       "      <td>0.0</td>\n",
       "      <td>0.0</td>\n",
       "      <td>0.0</td>\n",
       "    </tr>\n",
       "    <tr>\n",
       "      <td>9</td>\n",
       "      <td>1.0</td>\n",
       "      <td>1.0</td>\n",
       "      <td>5.0</td>\n",
       "      <td>2.0</td>\n",
       "      <td>0.0</td>\n",
       "      <td>0.0</td>\n",
       "      <td>0.0</td>\n",
       "      <td>0.0</td>\n",
       "      <td>0.0</td>\n",
       "      <td>0.0</td>\n",
       "      <td>...</td>\n",
       "      <td>0.0</td>\n",
       "      <td>0.0</td>\n",
       "      <td>1.0</td>\n",
       "      <td>0.0</td>\n",
       "      <td>0.0</td>\n",
       "      <td>0.0</td>\n",
       "      <td>0.0</td>\n",
       "      <td>0.0</td>\n",
       "      <td>0.0</td>\n",
       "      <td>0.0</td>\n",
       "    </tr>\n",
       "    <tr>\n",
       "      <td>...</td>\n",
       "      <td>...</td>\n",
       "      <td>...</td>\n",
       "      <td>...</td>\n",
       "      <td>...</td>\n",
       "      <td>...</td>\n",
       "      <td>...</td>\n",
       "      <td>...</td>\n",
       "      <td>...</td>\n",
       "      <td>...</td>\n",
       "      <td>...</td>\n",
       "      <td>...</td>\n",
       "      <td>...</td>\n",
       "      <td>...</td>\n",
       "      <td>...</td>\n",
       "      <td>...</td>\n",
       "      <td>...</td>\n",
       "      <td>...</td>\n",
       "      <td>...</td>\n",
       "      <td>...</td>\n",
       "      <td>...</td>\n",
       "      <td>...</td>\n",
       "    </tr>\n",
       "    <tr>\n",
       "      <td>3365</td>\n",
       "      <td>1.0</td>\n",
       "      <td>3.0</td>\n",
       "      <td>4.0</td>\n",
       "      <td>5.0</td>\n",
       "      <td>1.0</td>\n",
       "      <td>0.0</td>\n",
       "      <td>0.0</td>\n",
       "      <td>0.0</td>\n",
       "      <td>0.0</td>\n",
       "      <td>0.0</td>\n",
       "      <td>...</td>\n",
       "      <td>0.0</td>\n",
       "      <td>0.0</td>\n",
       "      <td>0.0</td>\n",
       "      <td>0.0</td>\n",
       "      <td>0.0</td>\n",
       "      <td>0.0</td>\n",
       "      <td>0.0</td>\n",
       "      <td>0.0</td>\n",
       "      <td>0.0</td>\n",
       "      <td>0.0</td>\n",
       "    </tr>\n",
       "    <tr>\n",
       "      <td>3367</td>\n",
       "      <td>1.0</td>\n",
       "      <td>3.0</td>\n",
       "      <td>4.0</td>\n",
       "      <td>3.0</td>\n",
       "      <td>0.0</td>\n",
       "      <td>0.0</td>\n",
       "      <td>0.0</td>\n",
       "      <td>0.0</td>\n",
       "      <td>0.0</td>\n",
       "      <td>0.0</td>\n",
       "      <td>...</td>\n",
       "      <td>0.0</td>\n",
       "      <td>0.0</td>\n",
       "      <td>0.0</td>\n",
       "      <td>1.0</td>\n",
       "      <td>0.0</td>\n",
       "      <td>0.0</td>\n",
       "      <td>0.0</td>\n",
       "      <td>0.0</td>\n",
       "      <td>0.0</td>\n",
       "      <td>0.0</td>\n",
       "    </tr>\n",
       "    <tr>\n",
       "      <td>3368</td>\n",
       "      <td>1.0</td>\n",
       "      <td>2.0</td>\n",
       "      <td>4.0</td>\n",
       "      <td>3.0</td>\n",
       "      <td>0.0</td>\n",
       "      <td>0.0</td>\n",
       "      <td>0.0</td>\n",
       "      <td>0.0</td>\n",
       "      <td>0.0</td>\n",
       "      <td>0.0</td>\n",
       "      <td>...</td>\n",
       "      <td>0.0</td>\n",
       "      <td>0.0</td>\n",
       "      <td>0.0</td>\n",
       "      <td>0.0</td>\n",
       "      <td>0.0</td>\n",
       "      <td>0.0</td>\n",
       "      <td>0.0</td>\n",
       "      <td>0.0</td>\n",
       "      <td>0.0</td>\n",
       "      <td>0.0</td>\n",
       "    </tr>\n",
       "    <tr>\n",
       "      <td>3369</td>\n",
       "      <td>2.0</td>\n",
       "      <td>2.0</td>\n",
       "      <td>4.0</td>\n",
       "      <td>4.0</td>\n",
       "      <td>1.0</td>\n",
       "      <td>0.0</td>\n",
       "      <td>0.0</td>\n",
       "      <td>0.0</td>\n",
       "      <td>0.0</td>\n",
       "      <td>0.0</td>\n",
       "      <td>...</td>\n",
       "      <td>0.0</td>\n",
       "      <td>0.0</td>\n",
       "      <td>0.0</td>\n",
       "      <td>0.0</td>\n",
       "      <td>0.0</td>\n",
       "      <td>0.0</td>\n",
       "      <td>0.0</td>\n",
       "      <td>0.0</td>\n",
       "      <td>0.0</td>\n",
       "      <td>0.0</td>\n",
       "    </tr>\n",
       "    <tr>\n",
       "      <td>3370</td>\n",
       "      <td>1.0</td>\n",
       "      <td>3.0</td>\n",
       "      <td>4.0</td>\n",
       "      <td>3.0</td>\n",
       "      <td>0.0</td>\n",
       "      <td>0.0</td>\n",
       "      <td>0.0</td>\n",
       "      <td>0.0</td>\n",
       "      <td>0.0</td>\n",
       "      <td>0.0</td>\n",
       "      <td>...</td>\n",
       "      <td>0.0</td>\n",
       "      <td>0.0</td>\n",
       "      <td>0.0</td>\n",
       "      <td>0.0</td>\n",
       "      <td>0.0</td>\n",
       "      <td>0.0</td>\n",
       "      <td>0.0</td>\n",
       "      <td>0.0</td>\n",
       "      <td>0.0</td>\n",
       "      <td>0.0</td>\n",
       "    </tr>\n",
       "  </tbody>\n",
       "</table>\n",
       "<p>2931 rows × 149 columns</p>\n",
       "</div>"
      ],
      "text/plain": [
       "      Perm_Current_Company_how_long  English_Level  Education_Level  \\\n",
       "ID                                                                    \n",
       "4                               1.0            3.0              5.0   \n",
       "5                               2.0            2.0              5.0   \n",
       "7                               1.0            3.0              5.0   \n",
       "8                               2.0            4.0              5.0   \n",
       "9                               1.0            1.0              5.0   \n",
       "...                             ...            ...              ...   \n",
       "3365                            1.0            3.0              4.0   \n",
       "3367                            1.0            3.0              4.0   \n",
       "3368                            1.0            2.0              4.0   \n",
       "3369                            2.0            2.0              4.0   \n",
       "3370                            1.0            3.0              4.0   \n",
       "\n",
       "      Working_Experience  Target  Colab_Resid_Aveiro  Colab_Resid_Açores  \\\n",
       "ID                                                                         \n",
       "4                    5.0     0.0                 0.0                 1.0   \n",
       "5                    4.0     0.0                 0.0                 0.0   \n",
       "7                    3.0     0.0                 1.0                 0.0   \n",
       "8                    5.0     0.0                 0.0                 0.0   \n",
       "9                    2.0     0.0                 0.0                 0.0   \n",
       "...                  ...     ...                 ...                 ...   \n",
       "3365                 5.0     1.0                 0.0                 0.0   \n",
       "3367                 3.0     0.0                 0.0                 0.0   \n",
       "3368                 3.0     0.0                 0.0                 0.0   \n",
       "3369                 4.0     1.0                 0.0                 0.0   \n",
       "3370                 3.0     0.0                 0.0                 0.0   \n",
       "\n",
       "      Colab_Resid_Beja  Colab_Resid_Braga  Colab_Resid_Bragança  ...  \\\n",
       "ID                                                               ...   \n",
       "4                  0.0                0.0                   0.0  ...   \n",
       "5                  0.0                1.0                   0.0  ...   \n",
       "7                  0.0                0.0                   0.0  ...   \n",
       "8                  0.0                0.0                   0.0  ...   \n",
       "9                  0.0                0.0                   0.0  ...   \n",
       "...                ...                ...                   ...  ...   \n",
       "3365               0.0                0.0                   0.0  ...   \n",
       "3367               0.0                0.0                   0.0  ...   \n",
       "3368               0.0                0.0                   0.0  ...   \n",
       "3369               0.0                0.0                   0.0  ...   \n",
       "3370               0.0                0.0                   0.0  ...   \n",
       "\n",
       "      Framework_Django  Framework_Laravel  Framework_Spring  Framework_Vue.js  \\\n",
       "ID                                                                              \n",
       "4                  0.0                0.0               0.0               0.0   \n",
       "5                  0.0                0.0               0.0               0.0   \n",
       "7                  0.0                0.0               1.0               0.0   \n",
       "8                  0.0                0.0               0.0               0.0   \n",
       "9                  0.0                0.0               1.0               0.0   \n",
       "...                ...                ...               ...               ...   \n",
       "3365               0.0                0.0               0.0               0.0   \n",
       "3367               0.0                0.0               0.0               1.0   \n",
       "3368               0.0                0.0               0.0               0.0   \n",
       "3369               0.0                0.0               0.0               0.0   \n",
       "3370               0.0                0.0               0.0               0.0   \n",
       "\n",
       "      Framework_Express  Framework_Meteor  Framework_Flask  \\\n",
       "ID                                                           \n",
       "4                   0.0               0.0              0.0   \n",
       "5                   1.0               0.0              0.0   \n",
       "7                   0.0               0.0              0.0   \n",
       "8                   0.0               0.0              0.0   \n",
       "9                   0.0               0.0              0.0   \n",
       "...                 ...               ...              ...   \n",
       "3365                0.0               0.0              0.0   \n",
       "3367                0.0               0.0              0.0   \n",
       "3368                0.0               0.0              0.0   \n",
       "3369                0.0               0.0              0.0   \n",
       "3370                0.0               0.0              0.0   \n",
       "\n",
       "      Framework_Ember.js  Framework_Drupal  Framework_OutSystems  \n",
       "ID                                                                \n",
       "4                    0.0               0.0                   0.0  \n",
       "5                    0.0               0.0                   0.0  \n",
       "7                    0.0               0.0                   0.0  \n",
       "8                    0.0               0.0                   0.0  \n",
       "9                    0.0               0.0                   0.0  \n",
       "...                  ...               ...                   ...  \n",
       "3365                 0.0               0.0                   0.0  \n",
       "3367                 0.0               0.0                   0.0  \n",
       "3368                 0.0               0.0                   0.0  \n",
       "3369                 0.0               0.0                   0.0  \n",
       "3370                 0.0               0.0                   0.0  \n",
       "\n",
       "[2931 rows x 149 columns]"
      ]
     },
     "execution_count": 35,
     "metadata": {},
     "output_type": "execute_result"
    }
   ],
   "source": [
    "df_ft"
   ]
  },
  {
   "cell_type": "markdown",
   "metadata": {},
   "source": [
    "### Normalizing Data"
   ]
  },
  {
   "cell_type": "code",
   "execution_count": 36,
   "metadata": {},
   "outputs": [],
   "source": [
    "scaler = MinMaxScaler()\n",
    "#creating new variable with target column to keep as discrete and not continuous\n",
    "y = df_ft['Target'].astype(int)\n",
    "df_ft = df_ft.drop(['Target'], axis = 1)\n",
    "df_ft = pd.DataFrame(scaler.fit_transform(df_ft), columns=df_ft.columns)\n",
    "df_ft['Target'] = y.reset_index().drop(['ID'], axis = 1).Target\n",
    "y = y.reset_index().drop(['ID'], axis = 1).Target"
   ]
  },
  {
   "cell_type": "code",
   "execution_count": 37,
   "metadata": {},
   "outputs": [],
   "source": [
    "X = df_ft.drop(['Target'], axis = 1)"
   ]
  },
  {
   "cell_type": "markdown",
   "metadata": {},
   "source": [
    "# Creating Training and Test set"
   ]
  },
  {
   "cell_type": "markdown",
   "metadata": {},
   "source": [
    "For this model, will be create a Train and validation test. The final score (accuracy) will be validated with cross validation."
   ]
  },
  {
   "cell_type": "code",
   "execution_count": 38,
   "metadata": {},
   "outputs": [],
   "source": [
    "#Creating test and train dataset\n",
    "x_train, x_val, y_train, y_val = train_test_split(X, y, test_size=0.20, random_state=0)\n",
    "\n",
    "x_train = x_train.reset_index().drop(['index'], axis = 1)\n",
    "x_val = x_val.reset_index().drop(['index'], axis = 1)\n",
    "\n",
    "y_train = y_train.reset_index().Target\n",
    "y_val = y_val.reset_index().Target"
   ]
  },
  {
   "cell_type": "code",
   "execution_count": 39,
   "metadata": {},
   "outputs": [
    {
     "data": {
      "text/plain": [
       "(2344, 148)"
      ]
     },
     "execution_count": 39,
     "metadata": {},
     "output_type": "execute_result"
    }
   ],
   "source": [
    "x_train.shape"
   ]
  },
  {
   "cell_type": "code",
   "execution_count": 40,
   "metadata": {},
   "outputs": [
    {
     "data": {
      "text/plain": [
       "(587, 148)"
      ]
     },
     "execution_count": 40,
     "metadata": {},
     "output_type": "execute_result"
    }
   ],
   "source": [
    "x_val.shape"
   ]
  },
  {
   "cell_type": "markdown",
   "metadata": {},
   "source": [
    "# What model to use\n",
    "In order to know what model to use and to start to understand the data to extract the best accuracy possible, I'll run several models to know how will they perform.\n",
    "To choose the final model, I'll always hav in consideration that I want not just the best model, but the best model with a good level of interpretability from their coefficients."
   ]
  },
  {
   "cell_type": "markdown",
   "metadata": {},
   "source": [
    "# get a list of models to evaluate\n",
    "def get_models():\n",
    "    models = list()\n",
    "    models.append(LogisticRegression())\n",
    "    models.append(RidgeClassifier())\n",
    "    models.append(SGDClassifier())\n",
    "    models.append(PassiveAggressiveClassifier())\n",
    "    models.append(KNeighborsClassifier())\n",
    "    models.append(DecisionTreeClassifier())\n",
    "    models.append(ExtraTreeClassifier())\n",
    "    models.append(LinearSVC())\n",
    "    models.append(SVC())\n",
    "    models.append(GaussianNB())\n",
    "    models.append(AdaBoostClassifier())\n",
    "    models.append(BaggingClassifier())\n",
    "    models.append(RandomForestClassifier())\n",
    "    models.append(ExtraTreesClassifier())\n",
    "    models.append(GaussianProcessClassifier())\n",
    "    models.append(GradientBoostingClassifier())\n",
    "    models.append(LinearDiscriminantAnalysis())\n",
    "    models.append(QuadraticDiscriminantAnalysis())\n",
    "    return models\n",
    " \n",
    "\n",
    "def evaluate_model(cv, model):\n",
    "    scores = cross_val_score(model, x_train, y_train, scoring='accuracy', cv=cv, n_jobs=-1)\n",
    "    return mean(scores)\n",
    " \n",
    "\n",
    "cv_2 = KFold(n_splits=5, shuffle=True, random_state=1)\n",
    "cv = KFold(n_splits=20, shuffle=True, random_state=1)\n",
    "models = get_models()\n",
    "cv_2_results, cv_results = list(), list()\n",
    "for model in models:\n",
    "    cv_mean = evaluate_model(cv, model)\n",
    "    cv_2_mean = evaluate_model(cv_2, model)\n",
    "    if isnan(cv_mean) or isnan(cv_2_mean):\n",
    "        continue\n",
    "    cv_results.append(cv_mean)\n",
    "    cv_2_results.append(cv_2_mean)\n",
    "    print('>%s: cv_2=%.3f, cv=%.3f' % (type(model).__name__, cv_2_mean, cv_mean))"
   ]
  },
  {
   "cell_type": "code",
   "execution_count": null,
   "metadata": {},
   "outputs": [],
   "source": []
  },
  {
   "cell_type": "markdown",
   "metadata": {},
   "source": [
    "# Most important features / Feature reduction\n",
    "\n",
    "I'll try to understand what are the right features to integrate in the model. For this case, I'll also bear in mind that PCA is a technic that can possibly improve accuracy but will lack interpretability. The final results will show that PCA results do in fact improve the model, but not so much. For that reason, I'll choose Logistic Regression and the features included will be the number of features of higher coefficient that return the highest accuracy rate."
   ]
  },
  {
   "cell_type": "raw",
   "metadata": {},
   "source": [
    "### Top features from PCA on Logistic Regression"
   ]
  },
  {
   "cell_type": "code",
   "execution_count": 41,
   "metadata": {},
   "outputs": [],
   "source": [
    "#I'll try to understand what are the best fetures to optimize the model from PCA\n",
    "from sklearn.decomposition import PCA\n",
    "\n",
    "score_list = []\n",
    "for x in np.arange(1,x_train.shape[1]):\n",
    "    #Defining the columns set\n",
    "    pca = PCA(n_components = x)\n",
    "    pca.fit(x_train)\n",
    "    x_trainPCA = pca.transform(x_train)\n",
    "    x_valPCA = pca.transform(x_val)\n",
    "    #Creating Train and Test\n",
    "    #Score from LogReg\n",
    "    logisticRegr = LogisticRegression()\n",
    "    logisticRegr.fit(x_trainPCA, y_train)\n",
    "    score = logisticRegr.score(x_valPCA, y_val)\n",
    "    score_list.append([score,x])"
   ]
  },
  {
   "cell_type": "code",
   "execution_count": 42,
   "metadata": {},
   "outputs": [
    {
     "data": {
      "text/html": [
       "<div>\n",
       "<style scoped>\n",
       "    .dataframe tbody tr th:only-of-type {\n",
       "        vertical-align: middle;\n",
       "    }\n",
       "\n",
       "    .dataframe tbody tr th {\n",
       "        vertical-align: top;\n",
       "    }\n",
       "\n",
       "    .dataframe thead th {\n",
       "        text-align: right;\n",
       "    }\n",
       "</style>\n",
       "<table border=\"1\" class=\"dataframe\">\n",
       "  <thead>\n",
       "    <tr style=\"text-align: right;\">\n",
       "      <th></th>\n",
       "      <th>0</th>\n",
       "      <th>1</th>\n",
       "    </tr>\n",
       "  </thead>\n",
       "  <tbody>\n",
       "    <tr>\n",
       "      <td>71</td>\n",
       "      <td>0.814310</td>\n",
       "      <td>72</td>\n",
       "    </tr>\n",
       "    <tr>\n",
       "      <td>72</td>\n",
       "      <td>0.809199</td>\n",
       "      <td>73</td>\n",
       "    </tr>\n",
       "    <tr>\n",
       "      <td>73</td>\n",
       "      <td>0.807496</td>\n",
       "      <td>74</td>\n",
       "    </tr>\n",
       "    <tr>\n",
       "      <td>75</td>\n",
       "      <td>0.807496</td>\n",
       "      <td>76</td>\n",
       "    </tr>\n",
       "    <tr>\n",
       "      <td>68</td>\n",
       "      <td>0.807496</td>\n",
       "      <td>69</td>\n",
       "    </tr>\n",
       "    <tr>\n",
       "      <td>...</td>\n",
       "      <td>...</td>\n",
       "      <td>...</td>\n",
       "    </tr>\n",
       "    <tr>\n",
       "      <td>4</td>\n",
       "      <td>0.618399</td>\n",
       "      <td>5</td>\n",
       "    </tr>\n",
       "    <tr>\n",
       "      <td>3</td>\n",
       "      <td>0.618399</td>\n",
       "      <td>4</td>\n",
       "    </tr>\n",
       "    <tr>\n",
       "      <td>2</td>\n",
       "      <td>0.592845</td>\n",
       "      <td>3</td>\n",
       "    </tr>\n",
       "    <tr>\n",
       "      <td>0</td>\n",
       "      <td>0.591141</td>\n",
       "      <td>1</td>\n",
       "    </tr>\n",
       "    <tr>\n",
       "      <td>1</td>\n",
       "      <td>0.589438</td>\n",
       "      <td>2</td>\n",
       "    </tr>\n",
       "  </tbody>\n",
       "</table>\n",
       "<p>147 rows × 2 columns</p>\n",
       "</div>"
      ],
      "text/plain": [
       "           0   1\n",
       "71  0.814310  72\n",
       "72  0.809199  73\n",
       "73  0.807496  74\n",
       "75  0.807496  76\n",
       "68  0.807496  69\n",
       "..       ...  ..\n",
       "4   0.618399   5\n",
       "3   0.618399   4\n",
       "2   0.592845   3\n",
       "0   0.591141   1\n",
       "1   0.589438   2\n",
       "\n",
       "[147 rows x 2 columns]"
      ]
     },
     "execution_count": 42,
     "metadata": {},
     "output_type": "execute_result"
    }
   ],
   "source": [
    "topPCA = pd.DataFrame(score_list).sort_values(0,ascending = False)\n",
    "topPCA"
   ]
  },
  {
   "cell_type": "code",
   "execution_count": null,
   "metadata": {},
   "outputs": [],
   "source": []
  },
  {
   "cell_type": "markdown",
   "metadata": {},
   "source": [
    "### Top features from a LogReg with top correlation matrix"
   ]
  },
  {
   "cell_type": "markdown",
   "metadata": {},
   "source": [
    "Building the LogReg with all columns and building a dataframe with top coefficients: "
   ]
  },
  {
   "cell_type": "code",
   "execution_count": 43,
   "metadata": {},
   "outputs": [],
   "source": [
    "#Getting top correlated columns with the Target. As expected, because of our coefficients in LogReg, the highest value is for \"Working Experience\" with 0.48.\n",
    "cor = df_ft.corr()\n",
    "col3 = cor.sort_values('Target')['Target'].sort_values(ascending = False)"
   ]
  },
  {
   "cell_type": "code",
   "execution_count": 44,
   "metadata": {},
   "outputs": [],
   "source": [
    "#I'll try to understand what is the optimal number of top features from the correlation matrix (pearson) to get the best accuracy rate.\n",
    "\n",
    "score_list = []\n",
    "for x in range(2,149):\n",
    "    #Defining the columns set\n",
    "    cols_3 = X[col3.index[1:x]].columns\n",
    "    x_train_LRcor = x_train[cols_3]\n",
    "    x_val_LRcor = x_val[cols_3]\n",
    "    #Creating Train and Test\n",
    "    #Score from LogReg\n",
    "    logisticRegr = LogisticRegression()\n",
    "    logisticRegr.fit(x_train_LRcor, y_train)\n",
    "    score = logisticRegr.score(x_val_LRcor, y_val)\n",
    "    score_list.append(score)"
   ]
  },
  {
   "cell_type": "code",
   "execution_count": 45,
   "metadata": {},
   "outputs": [
    {
     "data": {
      "text/html": [
       "<div>\n",
       "<style scoped>\n",
       "    .dataframe tbody tr th:only-of-type {\n",
       "        vertical-align: middle;\n",
       "    }\n",
       "\n",
       "    .dataframe tbody tr th {\n",
       "        vertical-align: top;\n",
       "    }\n",
       "\n",
       "    .dataframe thead th {\n",
       "        text-align: right;\n",
       "    }\n",
       "</style>\n",
       "<table border=\"1\" class=\"dataframe\">\n",
       "  <thead>\n",
       "    <tr style=\"text-align: right;\">\n",
       "      <th></th>\n",
       "      <th>0</th>\n",
       "    </tr>\n",
       "  </thead>\n",
       "  <tbody>\n",
       "    <tr>\n",
       "      <td>146</td>\n",
       "      <td>0.805792</td>\n",
       "    </tr>\n",
       "    <tr>\n",
       "      <td>122</td>\n",
       "      <td>0.800681</td>\n",
       "    </tr>\n",
       "    <tr>\n",
       "      <td>124</td>\n",
       "      <td>0.798978</td>\n",
       "    </tr>\n",
       "    <tr>\n",
       "      <td>123</td>\n",
       "      <td>0.798978</td>\n",
       "    </tr>\n",
       "    <tr>\n",
       "      <td>79</td>\n",
       "      <td>0.797274</td>\n",
       "    </tr>\n",
       "  </tbody>\n",
       "</table>\n",
       "</div>"
      ],
      "text/plain": [
       "            0\n",
       "146  0.805792\n",
       "122  0.800681\n",
       "124  0.798978\n",
       "123  0.798978\n",
       "79   0.797274"
      ]
     },
     "execution_count": 45,
     "metadata": {},
     "output_type": "execute_result"
    }
   ],
   "source": [
    "pd.options.display.max_rows = 50\n",
    "pd.DataFrame(score_list).sort_values(0, ascending = False).head(5)"
   ]
  },
  {
   "cell_type": "markdown",
   "metadata": {},
   "source": [
    "### Top features from a LogReg with top coef from LogReg with all columns"
   ]
  },
  {
   "cell_type": "code",
   "execution_count": 46,
   "metadata": {},
   "outputs": [
    {
     "name": "stdout",
     "output_type": "stream",
     "text": [
      "0.8006814310051107\n"
     ]
    }
   ],
   "source": [
    "logisticRegr = LogisticRegression(solver='newton-cg')\n",
    "logisticRegr.fit(x_train, y_train)\n",
    "score = logisticRegr.score(x_val, y_val)\n",
    "print(score)\n",
    "\n",
    "pd.options.display.max_rows = 500\n",
    "\n",
    "importance = logisticRegr.coef_\n",
    "\n",
    "cols_importance = pd.DataFrame(importance)\n",
    "imp = cols_importance.T\n",
    "imp['columns'] = X.columns\n",
    "imp = imp.sort_values(by = 0, ascending = False).reset_index().drop(['index'], axis = 1)"
   ]
  },
  {
   "cell_type": "code",
   "execution_count": 47,
   "metadata": {},
   "outputs": [],
   "source": [
    "#I'll try to understand what is the optimal number of top features from the logreg coefficients to get the best accuracy rate.\n",
    "\n",
    "score_list_LR = []\n",
    "\n",
    "for x in range(1,160):\n",
    "    #Defining the columns set\n",
    "    cols_2 = list(imp['columns'][0:x])\n",
    "    x_train_LR = x_train[cols_2]\n",
    "    x_val_LR = x_val[cols_2]\n",
    "    #Score from LogReg\n",
    "    logisticRegr = LogisticRegression(solver='newton-cg')\n",
    "    logisticRegr.fit(x_train_LR, y_train)\n",
    "    score = logisticRegr.score(x_val_LR, y_val)\n",
    "    score_list_LR.append([score,x])"
   ]
  },
  {
   "cell_type": "code",
   "execution_count": 48,
   "metadata": {},
   "outputs": [
    {
     "data": {
      "text/html": [
       "<div>\n",
       "<style scoped>\n",
       "    .dataframe tbody tr th:only-of-type {\n",
       "        vertical-align: middle;\n",
       "    }\n",
       "\n",
       "    .dataframe tbody tr th {\n",
       "        vertical-align: top;\n",
       "    }\n",
       "\n",
       "    .dataframe thead th {\n",
       "        text-align: right;\n",
       "    }\n",
       "</style>\n",
       "<table border=\"1\" class=\"dataframe\">\n",
       "  <thead>\n",
       "    <tr style=\"text-align: right;\">\n",
       "      <th></th>\n",
       "      <th>0</th>\n",
       "      <th>1</th>\n",
       "    </tr>\n",
       "  </thead>\n",
       "  <tbody>\n",
       "    <tr>\n",
       "      <td>139</td>\n",
       "      <td>0.807496</td>\n",
       "      <td>140</td>\n",
       "    </tr>\n",
       "    <tr>\n",
       "      <td>140</td>\n",
       "      <td>0.807496</td>\n",
       "      <td>141</td>\n",
       "    </tr>\n",
       "    <tr>\n",
       "      <td>141</td>\n",
       "      <td>0.805792</td>\n",
       "      <td>142</td>\n",
       "    </tr>\n",
       "    <tr>\n",
       "      <td>144</td>\n",
       "      <td>0.804089</td>\n",
       "      <td>145</td>\n",
       "    </tr>\n",
       "    <tr>\n",
       "      <td>143</td>\n",
       "      <td>0.804089</td>\n",
       "      <td>144</td>\n",
       "    </tr>\n",
       "  </tbody>\n",
       "</table>\n",
       "</div>"
      ],
      "text/plain": [
       "            0    1\n",
       "139  0.807496  140\n",
       "140  0.807496  141\n",
       "141  0.805792  142\n",
       "144  0.804089  145\n",
       "143  0.804089  144"
      ]
     },
     "execution_count": 48,
     "metadata": {},
     "output_type": "execute_result"
    }
   ],
   "source": [
    "pd.options.display.max_rows = 50\n",
    "top_LR = pd.DataFrame(score_list_LR).sort_values(0, ascending = False).head(5)\n",
    "top_LR"
   ]
  },
  {
   "cell_type": "markdown",
   "metadata": {},
   "source": [
    "# Creating Our Model from previous experiences\n",
    "I've also tried a model with GBoost and XGBoost that would give great results sometimes, but due to their stochastic nature, those good results were very uncertain. When I tried to stabilize the stochasticity of those models, the accuracy fell to levels below Logistic Regression.\n",
    "\n",
    "The final model will be made of a Logistic Regression for prediction, using top features from logistic regression coefficients. It's simple and very easy to use and I hope I can optimize it a little bit. "
   ]
  },
  {
   "cell_type": "markdown",
   "metadata": {},
   "source": [
    "Filtering our Train and Test sets with the best results obtained before"
   ]
  },
  {
   "cell_type": "code",
   "execution_count": 49,
   "metadata": {},
   "outputs": [],
   "source": [
    "cols_2 = list(imp['columns'][0:top_LR[1].iloc[0]])\n",
    "x_train = x_train[cols_2]\n",
    "x_val = x_val[cols_2]"
   ]
  },
  {
   "cell_type": "code",
   "execution_count": 50,
   "metadata": {},
   "outputs": [
    {
     "data": {
      "text/plain": [
       "(2344, 140)"
      ]
     },
     "execution_count": 50,
     "metadata": {},
     "output_type": "execute_result"
    }
   ],
   "source": [
    "x_train.shape"
   ]
  },
  {
   "cell_type": "markdown",
   "metadata": {},
   "source": [
    "Applying the model with the new sets, should give us the best result obtained previously"
   ]
  },
  {
   "cell_type": "code",
   "execution_count": 51,
   "metadata": {},
   "outputs": [
    {
     "data": {
      "text/plain": [
       "0.807495741056218"
      ]
     },
     "execution_count": 51,
     "metadata": {},
     "output_type": "execute_result"
    }
   ],
   "source": [
    "logisticRegr = LogisticRegression(solver='newton-cg')\n",
    "logisticRegr.fit(x_train, y_train)\n",
    "score = logisticRegr.score(x_val, y_val)\n",
    "score"
   ]
  },
  {
   "cell_type": "markdown",
   "metadata": {},
   "source": [
    "This step is very important and very interesting. We are now able to read the coefficients for each feature and understand their importance. Working Experience is clearly the king in our model and completely makes sense: The higher your experience, the higher will be your wage."
   ]
  },
  {
   "cell_type": "code",
   "execution_count": 52,
   "metadata": {},
   "outputs": [
    {
     "data": {
      "text/html": [
       "<div>\n",
       "<style scoped>\n",
       "    .dataframe tbody tr th:only-of-type {\n",
       "        vertical-align: middle;\n",
       "    }\n",
       "\n",
       "    .dataframe tbody tr th {\n",
       "        vertical-align: top;\n",
       "    }\n",
       "\n",
       "    .dataframe thead th {\n",
       "        text-align: right;\n",
       "    }\n",
       "</style>\n",
       "<table border=\"1\" class=\"dataframe\">\n",
       "  <thead>\n",
       "    <tr style=\"text-align: right;\">\n",
       "      <th></th>\n",
       "      <th>0</th>\n",
       "      <th>columns</th>\n",
       "      <th>absolute</th>\n",
       "    </tr>\n",
       "  </thead>\n",
       "  <tbody>\n",
       "    <tr>\n",
       "      <td>0</td>\n",
       "      <td>4.915877</td>\n",
       "      <td>Working_Experience</td>\n",
       "      <td>4.915877</td>\n",
       "    </tr>\n",
       "    <tr>\n",
       "      <td>1</td>\n",
       "      <td>1.866013</td>\n",
       "      <td>Comp_Country_International</td>\n",
       "      <td>1.866013</td>\n",
       "    </tr>\n",
       "    <tr>\n",
       "      <td>2</td>\n",
       "      <td>1.516652</td>\n",
       "      <td>Type_Scale-up (fast growing company aka \"unico...</td>\n",
       "      <td>1.516652</td>\n",
       "    </tr>\n",
       "    <tr>\n",
       "      <td>3</td>\n",
       "      <td>1.389163</td>\n",
       "      <td>Colab_Resid_Lisboa</td>\n",
       "      <td>1.389163</td>\n",
       "    </tr>\n",
       "    <tr>\n",
       "      <td>4</td>\n",
       "      <td>1.348296</td>\n",
       "      <td>Type_Startup (new business venture)</td>\n",
       "      <td>1.348296</td>\n",
       "    </tr>\n",
       "    <tr>\n",
       "      <td>5</td>\n",
       "      <td>1.193807</td>\n",
       "      <td>Education_Level</td>\n",
       "      <td>1.193807</td>\n",
       "    </tr>\n",
       "    <tr>\n",
       "      <td>6</td>\n",
       "      <td>1.055859</td>\n",
       "      <td>Comp_District_Lisboa</td>\n",
       "      <td>1.055859</td>\n",
       "    </tr>\n",
       "    <tr>\n",
       "      <td>7</td>\n",
       "      <td>1.031700</td>\n",
       "      <td>Employer_Size_</td>\n",
       "      <td>1.031700</td>\n",
       "    </tr>\n",
       "    <tr>\n",
       "      <td>8</td>\n",
       "      <td>1.024210</td>\n",
       "      <td>Colab_Resid_Setúbal</td>\n",
       "      <td>1.024210</td>\n",
       "    </tr>\n",
       "    <tr>\n",
       "      <td>9</td>\n",
       "      <td>1.009382</td>\n",
       "      <td>Employer_Industry_Media, advertising, publishi...</td>\n",
       "      <td>1.009382</td>\n",
       "    </tr>\n",
       "    <tr>\n",
       "      <td>10</td>\n",
       "      <td>0.961249</td>\n",
       "      <td>English_Level</td>\n",
       "      <td>0.961249</td>\n",
       "    </tr>\n",
       "    <tr>\n",
       "      <td>11</td>\n",
       "      <td>0.950513</td>\n",
       "      <td>job_role_Technical Team Leader</td>\n",
       "      <td>0.950513</td>\n",
       "    </tr>\n",
       "    <tr>\n",
       "      <td>12</td>\n",
       "      <td>0.942491</td>\n",
       "      <td>job_role_CTO</td>\n",
       "      <td>0.942491</td>\n",
       "    </tr>\n",
       "    <tr>\n",
       "      <td>13</td>\n",
       "      <td>0.910483</td>\n",
       "      <td>Comp_District_Coimbra</td>\n",
       "      <td>0.910483</td>\n",
       "    </tr>\n",
       "    <tr>\n",
       "      <td>14</td>\n",
       "      <td>0.809730</td>\n",
       "      <td>Employer_Industry_Transportation</td>\n",
       "      <td>0.809730</td>\n",
       "    </tr>\n",
       "    <tr>\n",
       "      <td>15</td>\n",
       "      <td>0.804941</td>\n",
       "      <td>Comp_District_Porto</td>\n",
       "      <td>0.804941</td>\n",
       "    </tr>\n",
       "    <tr>\n",
       "      <td>16</td>\n",
       "      <td>0.785593</td>\n",
       "      <td>Employer_Industry_Energy or utilities</td>\n",
       "      <td>0.785593</td>\n",
       "    </tr>\n",
       "    <tr>\n",
       "      <td>17</td>\n",
       "      <td>0.774407</td>\n",
       "      <td>job_role_Scrum Master</td>\n",
       "      <td>0.774407</td>\n",
       "    </tr>\n",
       "    <tr>\n",
       "      <td>18</td>\n",
       "      <td>0.774021</td>\n",
       "      <td>Language_Perl</td>\n",
       "      <td>0.774021</td>\n",
       "    </tr>\n",
       "    <tr>\n",
       "      <td>19</td>\n",
       "      <td>0.753584</td>\n",
       "      <td>Type_Corporate</td>\n",
       "      <td>0.753584</td>\n",
       "    </tr>\n",
       "  </tbody>\n",
       "</table>\n",
       "</div>"
      ],
      "text/plain": [
       "           0                                            columns  absolute\n",
       "0   4.915877                                 Working_Experience  4.915877\n",
       "1   1.866013                         Comp_Country_International  1.866013\n",
       "2   1.516652  Type_Scale-up (fast growing company aka \"unico...  1.516652\n",
       "3   1.389163                                 Colab_Resid_Lisboa  1.389163\n",
       "4   1.348296                Type_Startup (new business venture)  1.348296\n",
       "5   1.193807                                    Education_Level  1.193807\n",
       "6   1.055859                               Comp_District_Lisboa  1.055859\n",
       "7   1.031700                                     Employer_Size_  1.031700\n",
       "8   1.024210                                Colab_Resid_Setúbal  1.024210\n",
       "9   1.009382  Employer_Industry_Media, advertising, publishi...  1.009382\n",
       "10  0.961249                                      English_Level  0.961249\n",
       "11  0.950513                     job_role_Technical Team Leader  0.950513\n",
       "12  0.942491                                       job_role_CTO  0.942491\n",
       "13  0.910483                              Comp_District_Coimbra  0.910483\n",
       "14  0.809730                   Employer_Industry_Transportation  0.809730\n",
       "15  0.804941                                Comp_District_Porto  0.804941\n",
       "16  0.785593              Employer_Industry_Energy or utilities  0.785593\n",
       "17  0.774407                              job_role_Scrum Master  0.774407\n",
       "18  0.774021                                      Language_Perl  0.774021\n",
       "19  0.753584                                     Type_Corporate  0.753584"
      ]
     },
     "execution_count": 52,
     "metadata": {},
     "output_type": "execute_result"
    }
   ],
   "source": [
    "#Finding the coefficient values for each column\n",
    "\n",
    "importance = logisticRegr.coef_\n",
    "\n",
    "cols_importance = pd.DataFrame(importance)\n",
    "imp = cols_importance.T\n",
    "imp['columns'] = x_train.columns\n",
    "imp['absolute'] = imp[0].abs()\n",
    "imp = imp.sort_values(by = 'absolute', ascending = False).reset_index().drop(['index'], axis = 1)\n",
    "imp.head(20)"
   ]
  },
  {
   "cell_type": "markdown",
   "metadata": {},
   "source": [
    "# Bagging\n",
    "\n",
    "From this point, I've tried several ways to improve the model and this one turned out to be a fast way of improving the accuracy a little bit\n",
    "-\n",
    "I've decided to use the top 3 models from the previous results from the process where I've tried several models and create a separated dataset with 3 columns, each one for the prediction of each model. The models used are:\n",
    "- Logistic Regression\n",
    "- XGBoost\n",
    "- SVC"
   ]
  },
  {
   "cell_type": "markdown",
   "metadata": {},
   "source": [
    "#### Creating new column with prediction probabilty #1"
   ]
  },
  {
   "cell_type": "code",
   "execution_count": 53,
   "metadata": {},
   "outputs": [],
   "source": [
    "\n",
    "x_train_pred = logisticRegr.predict_proba(x_train)[:,1]\n",
    "x_val_pred = logisticRegr.predict_proba(x_val)[:,1]\n",
    "\n",
    "#creating 1st prediction column\n",
    "\n",
    "train_pred = pd.DataFrame()\n",
    "val_pred = pd.DataFrame()\n",
    "test_pred = pd.DataFrame()\n",
    "\n",
    "train_pred['LR'] = x_train_pred\n",
    "val_pred['LR'] = x_val_pred \n"
   ]
  },
  {
   "cell_type": "markdown",
   "metadata": {},
   "source": [
    "#### Creating new column with prediction probabilty #2 - using XGB\n"
   ]
  },
  {
   "cell_type": "code",
   "execution_count": 54,
   "metadata": {},
   "outputs": [],
   "source": [
    "\n",
    "\n",
    "from numpy import loadtxt\n",
    "from xgboost import XGBClassifier\n",
    "from sklearn.model_selection import train_test_split\n",
    "from sklearn.metrics import accuracy_score\n",
    "\n",
    "\n",
    "model = XGBClassifier()\n",
    "model.fit(x_train, y_train)\n",
    "\n",
    "# make predictions for test data\n",
    "x_train_pred = model.predict_proba(x_train)[:,1]\n",
    "x_val_pred = model.predict_proba(x_val)[:,1]\n",
    "\n",
    "\n",
    "#creating 2nd prediction column\n",
    "\n",
    "train_pred['XGB'] = x_train_pred\n",
    "val_pred['XGB'] = x_val_pred \n",
    "\n"
   ]
  },
  {
   "cell_type": "markdown",
   "metadata": {},
   "source": [
    "#### Creating new column with prediction probabilty #3 - using SVC\n"
   ]
  },
  {
   "cell_type": "code",
   "execution_count": 55,
   "metadata": {},
   "outputs": [],
   "source": [
    "from sklearn.svm import SVC\n",
    "from sklearn.neighbors import KNeighborsClassifier\n",
    "\n",
    "SVC2 = SVC(probability=True)\n",
    "\n",
    "SVC2.fit(x_train,y_train)\n",
    "\n",
    "# make predictions for test data\n",
    "x_train_pred = SVC2.predict_proba(x_train)[:,1]\n",
    "x_val_pred = SVC2.predict_proba(x_val)[:,1]\n",
    "\n",
    "#creating 3rd prediction column\n",
    "\n",
    "train_pred['SVC'] = x_train_pred\n",
    "val_pred['SVC'] = x_val_pred \n"
   ]
  },
  {
   "cell_type": "code",
   "execution_count": null,
   "metadata": {},
   "outputs": [],
   "source": []
  },
  {
   "cell_type": "markdown",
   "metadata": {},
   "source": [
    "# Final Model\n"
   ]
  },
  {
   "cell_type": "markdown",
   "metadata": {},
   "source": [
    "The final model will be a Logistic regression, but now, with a new feature that will be the average of predictions by the bagging process.\n",
    "For the final model, I'll use cross validation and will perform feature reduction one more time, because we will have a new extra feature that will change the correlation between the data."
   ]
  },
  {
   "cell_type": "markdown",
   "metadata": {},
   "source": [
    "Joining our predictions into the datasets"
   ]
  },
  {
   "cell_type": "code",
   "execution_count": 56,
   "metadata": {},
   "outputs": [
    {
     "name": "stdout",
     "output_type": "stream",
     "text": [
      "{'C': 1} 0.807495741056218\n"
     ]
    }
   ],
   "source": [
    "logreg = LogisticRegression(solver='newton-cg')\n",
    "param = {'C':[1,10]}\n",
    "LR = GridSearchCV(logreg,param,scoring='accuracy',refit=True,cv=10)\n",
    "LR.fit(x_train,y_train)\n",
    "score = LR.score(x_val, y_val)\n",
    "print(LR.best_params_,score)"
   ]
  },
  {
   "cell_type": "code",
   "execution_count": 57,
   "metadata": {},
   "outputs": [],
   "source": [
    "x_train = pd.DataFrame(x_train)\n",
    "x_val = pd.DataFrame(x_val)"
   ]
  },
  {
   "cell_type": "code",
   "execution_count": 58,
   "metadata": {},
   "outputs": [],
   "source": [
    "x_train = x_train.join(train_pred)\n",
    "x_val = x_val.join(val_pred)"
   ]
  },
  {
   "cell_type": "markdown",
   "metadata": {},
   "source": [
    "We will add more value joining those 3 columns by their mean"
   ]
  },
  {
   "cell_type": "code",
   "execution_count": 59,
   "metadata": {},
   "outputs": [],
   "source": [
    "x_train['proba'] = (x_train['LR'] + x_train['XGB'] + x_train['SVC']) / 3\n",
    "x_train = x_train.drop(['LR', 'XGB', 'SVC'], axis = 1)\n",
    "\n",
    "x_val['proba'] = (x_val['LR'] + x_val['XGB'] + x_val['SVC']) / 3\n",
    "x_val = x_val.drop(['LR', 'XGB', 'SVC'], axis = 1)"
   ]
  },
  {
   "cell_type": "markdown",
   "metadata": {},
   "source": [
    "Let's check how does our model behaves with this new data"
   ]
  },
  {
   "cell_type": "code",
   "execution_count": 60,
   "metadata": {},
   "outputs": [
    {
     "name": "stdout",
     "output_type": "stream",
     "text": [
      "{'C': 10} 0.817717206132879\n"
     ]
    }
   ],
   "source": [
    "logreg = LogisticRegression(solver='newton-cg')\n",
    "param = {'C':[1,10]}\n",
    "LR = GridSearchCV(logreg,param,scoring='accuracy',refit=True,cv=10)\n",
    "LR.fit(x_train,y_train)\n",
    "score = LR.score(x_val, y_val)\n",
    "print(LR.best_params_,score)"
   ]
  },
  {
   "cell_type": "markdown",
   "metadata": {},
   "source": [
    "### Last step: one more feature reduction"
   ]
  },
  {
   "cell_type": "code",
   "execution_count": 61,
   "metadata": {},
   "outputs": [
    {
     "name": "stdout",
     "output_type": "stream",
     "text": [
      "0.817717206132879\n"
     ]
    }
   ],
   "source": [
    "logisticRegr = LogisticRegression(solver='newton-cg')\n",
    "logisticRegr.fit(x_train, y_train)\n",
    "score = logisticRegr.score(x_val, y_val)\n",
    "print(score)\n",
    "\n",
    "pd.options.display.max_rows = 500\n",
    "\n",
    "importance = logisticRegr.coef_\n",
    "\n",
    "cols_importance = pd.DataFrame(importance)\n",
    "imp = cols_importance.T\n",
    "imp['columns'] = x_train.columns\n",
    "imp = imp.sort_values(by = 0, ascending = False).reset_index().drop(['index'], axis = 1)"
   ]
  },
  {
   "cell_type": "code",
   "execution_count": 62,
   "metadata": {},
   "outputs": [],
   "source": [
    "score_list_LR = []\n",
    "\n",
    "for x in range(1,160):\n",
    "    #Defining the columns set\n",
    "    cols_2 = list(imp['columns'][0:x])\n",
    "    x_train_LR = x_train[cols_2]\n",
    "    x_val_LR = x_val[cols_2]\n",
    "    #Score from LogReg\n",
    "    logisticRegr = LogisticRegression(solver='newton-cg')\n",
    "    logisticRegr.fit(x_train_LR, y_train)\n",
    "    score = logisticRegr.score(x_val_LR, y_val)\n",
    "    score_list_LR.append([score,x])"
   ]
  },
  {
   "cell_type": "code",
   "execution_count": 63,
   "metadata": {},
   "outputs": [
    {
     "data": {
      "text/html": [
       "<div>\n",
       "<style scoped>\n",
       "    .dataframe tbody tr th:only-of-type {\n",
       "        vertical-align: middle;\n",
       "    }\n",
       "\n",
       "    .dataframe tbody tr th {\n",
       "        vertical-align: top;\n",
       "    }\n",
       "\n",
       "    .dataframe thead th {\n",
       "        text-align: right;\n",
       "    }\n",
       "</style>\n",
       "<table border=\"1\" class=\"dataframe\">\n",
       "  <thead>\n",
       "    <tr style=\"text-align: right;\">\n",
       "      <th></th>\n",
       "      <th>0</th>\n",
       "      <th>1</th>\n",
       "    </tr>\n",
       "  </thead>\n",
       "  <tbody>\n",
       "    <tr>\n",
       "      <td>47</td>\n",
       "      <td>0.826235</td>\n",
       "      <td>48</td>\n",
       "    </tr>\n",
       "    <tr>\n",
       "      <td>17</td>\n",
       "      <td>0.824532</td>\n",
       "      <td>18</td>\n",
       "    </tr>\n",
       "    <tr>\n",
       "      <td>18</td>\n",
       "      <td>0.824532</td>\n",
       "      <td>19</td>\n",
       "    </tr>\n",
       "    <tr>\n",
       "      <td>33</td>\n",
       "      <td>0.822828</td>\n",
       "      <td>34</td>\n",
       "    </tr>\n",
       "    <tr>\n",
       "      <td>31</td>\n",
       "      <td>0.822828</td>\n",
       "      <td>32</td>\n",
       "    </tr>\n",
       "  </tbody>\n",
       "</table>\n",
       "</div>"
      ],
      "text/plain": [
       "           0   1\n",
       "47  0.826235  48\n",
       "17  0.824532  18\n",
       "18  0.824532  19\n",
       "33  0.822828  34\n",
       "31  0.822828  32"
      ]
     },
     "execution_count": 63,
     "metadata": {},
     "output_type": "execute_result"
    }
   ],
   "source": [
    "pd.options.display.max_rows = 50\n",
    "top_LR = pd.DataFrame(score_list_LR).sort_values(0, ascending = False).head(5)\n",
    "top_LR"
   ]
  },
  {
   "cell_type": "code",
   "execution_count": 64,
   "metadata": {},
   "outputs": [],
   "source": [
    "cols_2 = list(imp['columns'][0:top_LR[1].iloc[0]])\n",
    "x_train = x_train[cols_2]\n",
    "x_val = x_val[cols_2]"
   ]
  },
  {
   "cell_type": "markdown",
   "metadata": {},
   "source": [
    "#### Final model and score with CV and gridsearch:"
   ]
  },
  {
   "cell_type": "code",
   "execution_count": 65,
   "metadata": {},
   "outputs": [
    {
     "name": "stdout",
     "output_type": "stream",
     "text": [
      "{'C': 10} 0.8262350936967632\n"
     ]
    }
   ],
   "source": [
    "logreg = LogisticRegression(solver='newton-cg')\n",
    "param = {'C':[1,10]}\n",
    "LR = GridSearchCV(logreg,param,scoring='accuracy',refit=True,cv=10)\n",
    "LR.fit(x_train,y_train)\n",
    "score = LR.score(x_val, y_val)\n",
    "print(LR.best_params_,score)"
   ]
  },
  {
   "cell_type": "code",
   "execution_count": null,
   "metadata": {},
   "outputs": [],
   "source": []
  }
 ],
 "metadata": {
  "kernelspec": {
   "display_name": "Python 3",
   "language": "python",
   "name": "python3"
  },
  "language_info": {
   "codemirror_mode": {
    "name": "ipython",
    "version": 3
   },
   "file_extension": ".py",
   "mimetype": "text/x-python",
   "name": "python",
   "nbconvert_exporter": "python",
   "pygments_lexer": "ipython3",
   "version": "3.7.4"
  }
 },
 "nbformat": 4,
 "nbformat_minor": 4
}
